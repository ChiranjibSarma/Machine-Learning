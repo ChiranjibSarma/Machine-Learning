{
 "cells": [
  {
   "cell_type": "markdown",
   "metadata": {
    "colab_type": "text",
    "id": "PHhbwnqa0B4C"
   },
   "source": [
    "# Naive Bayes on Amazon Fine Foods Reviews \n",
    "\n",
    "**Objective** - Run Naive Bayes Algorithms on Amazon Fine Foods Review Dataset using BoW and TF-IDF vectorization methods. Also to report the metrics for each iteration. Time based splitting to be followed.\n",
    "\n",
    "\n",
    "**Kaggle Dataset Location** - https://www.kaggle.com/snap/amazon-fine-food-reviews/data\n",
    "\n"
   ]
  },
  {
   "cell_type": "code",
   "execution_count": 1,
   "metadata": {
    "colab": {
     "autoexec": {
      "startup": false,
      "wait_interval": 0
     }
    },
    "colab_type": "code",
    "id": "jxMIQTh5Dd9X"
   },
   "outputs": [],
   "source": [
    "#Making Sure Warnings Dont Appear in Cell Outputs\n",
    "import warnings\n",
    "warnings.filterwarnings('ignore')\n"
   ]
  },
  {
   "cell_type": "code",
   "execution_count": 2,
   "metadata": {
    "colab": {
     "autoexec": {
      "startup": false,
      "wait_interval": 0
     }
    },
    "colab_type": "code",
    "id": "jBfS3wst0B4I"
   },
   "outputs": [
    {
     "name": "stderr",
     "output_type": "stream",
     "text": [
      "/usr/lib/python3/dist-packages/sklearn/cross_validation.py:44: DeprecationWarning: This module was deprecated in version 0.18 in favor of the model_selection module into which all the refactored classes and functions are moved. Also note that the interface of the new CV iterators are different from that of this module. This module will be removed in 0.20.\n",
      "  \"This module will be removed in 0.20.\", DeprecationWarning)\n"
     ]
    }
   ],
   "source": [
    "# import packages\n",
    "import pandas as pd\n",
    "import numpy as np\n",
    "import matplotlib.pyplot as plt\n",
    "import seaborn as sns\n",
    "import string\n",
    "import sqlite3\n",
    "import re\n",
    "from nltk.corpus import stopwords\n",
    "from nltk.stem import PorterStemmer\n",
    "from nltk.stem import SnowballStemmer\n",
    "from nltk.stem.wordnet import WordNetLemmatizer\n",
    "from sklearn.neighbors import KNeighborsClassifier\n",
    "from sklearn.metrics import accuracy_score,precision_score,recall_score,confusion_matrix,classification_report,f1_score\n",
    "from sklearn.decomposition import TruncatedSVD\n",
    "from sklearn import cross_validation\n",
    "from sklearn.cross_validation import cross_val_score\n",
    "from sklearn.feature_extraction.text import CountVectorizer\n",
    "from sklearn.feature_extraction.text import TfidfVectorizer\n",
    "import gensim\n",
    "from sklearn.model_selection import train_test_split\n",
    "from tqdm import tqdm\n",
    "from sklearn.naive_bayes import MultinomialNB"
   ]
  },
  {
   "cell_type": "markdown",
   "metadata": {
    "colab_type": "text",
    "id": "SDH3RqDG0B4T"
   },
   "source": [
    "**1. Importing Dataset from database.sqlite and ignoring reviews with Score  = 3 as they represent a neutral view**"
   ]
  },
  {
   "cell_type": "code",
   "execution_count": 3,
   "metadata": {
    "colab": {
     "autoexec": {
      "startup": false,
      "wait_interval": 0
     }
    },
    "colab_type": "code",
    "id": "Sn4EnmMU0B4U"
   },
   "outputs": [],
   "source": [
    "# creating sql connection string\n",
    "con = sqlite3.connect('AmazonReviews.sqlite')"
   ]
  },
  {
   "cell_type": "code",
   "execution_count": 4,
   "metadata": {
    "colab": {
     "autoexec": {
      "startup": false,
      "wait_interval": 0
     }
    },
    "colab_type": "code",
    "id": "3AkXVJ2-0B4b"
   },
   "outputs": [],
   "source": [
    "#Positive Review - Rating above 3\n",
    "#Negative Review - Rating below 3\n",
    "#Ignoring Reviews with 3 Rating\n",
    "\n",
    "filtered_data = pd.read_sql_query('SELECT * from Reviews WHERE Score != 3',con)"
   ]
  },
  {
   "cell_type": "code",
   "execution_count": 5,
   "metadata": {
    "colab": {
     "autoexec": {
      "startup": false,
      "wait_interval": 0
     }
    },
    "colab_type": "code",
    "id": "OJ7X-OGZ0B4m"
   },
   "outputs": [],
   "source": [
    "# mapping ratings above 3 as Positive and below 3 as Negative\n",
    "\n",
    "actual_scores = filtered_data['Score']\n",
    "positiveNegative = actual_scores.map(lambda x: 'Positive' if x>3 else 'Negative')\n",
    "filtered_data['Score'] = positiveNegative"
   ]
  },
  {
   "cell_type": "markdown",
   "metadata": {
    "colab_type": "text",
    "id": "iy8UjEIs0B4-"
   },
   "source": [
    "**3. Data Preprocessing**"
   ]
  },
  {
   "cell_type": "code",
   "execution_count": 6,
   "metadata": {
    "colab": {
     "autoexec": {
      "startup": false,
      "wait_interval": 0
     }
    },
    "colab_type": "code",
    "id": "KJSdHBNBuo0o"
   },
   "outputs": [],
   "source": [
    "# Making sure to drop duplicate reviews which are given by the same user at the same time with same text\n",
    "final = filtered_data.drop_duplicates(subset= { 'UserId', 'ProfileName', 'Time',  'Text'})"
   ]
  },
  {
   "cell_type": "code",
   "execution_count": 7,
   "metadata": {
    "colab": {
     "autoexec": {
      "startup": false,
      "wait_interval": 0
     },
     "base_uri": "https://localhost:8080/",
     "height": 51
    },
    "colab_type": "code",
    "executionInfo": {
     "elapsed": 1242,
     "status": "ok",
     "timestamp": 1532914432269,
     "user": {
      "displayName": "Chiranjib Sarma",
      "photoUrl": "//lh5.googleusercontent.com/-qgR21D2ilJw/AAAAAAAAAAI/AAAAAAAAL3Q/viq52ZH0_1I/s50-c-k-no/photo.jpg",
      "userId": "101813071526859824880"
     },
     "user_tz": -330
    },
    "id": "W7IIIVQU0B5J",
    "outputId": "4080c7e1-7909-4027-d8a0-709b89e852c0"
   },
   "outputs": [
    {
     "name": "stdout",
     "output_type": "stream",
     "text": [
      "Rows dropped :  1616410\n",
      "Percentage Data remaining after dropping duplicates : 69.25890143662969\n"
     ]
    }
   ],
   "source": [
    "# Check the percentage of datapoints remaining after dropping duplicates\n",
    "print('Rows dropped : ',filtered_data.size - final.size)\n",
    "print('Percentage Data remaining after dropping duplicates :',(((final.size * 1.0)/(filtered_data.size * 1.0) * 100.0)))"
   ]
  },
  {
   "cell_type": "code",
   "execution_count": 8,
   "metadata": {
    "colab": {
     "autoexec": {
      "startup": false,
      "wait_interval": 0
     }
    },
    "colab_type": "code",
    "id": "hmLsrMfY0B5S"
   },
   "outputs": [],
   "source": [
    "# Dropping rows where HelpfulnessNumerator > HelpfulnessDenominator\n",
    "# HelpfulnessNumerator  HelpfulnessDenominator\n",
    "final = final[final.HelpfulnessNumerator<=final.HelpfulnessDenominator]"
   ]
  },
  {
   "cell_type": "code",
   "execution_count": 9,
   "metadata": {
    "colab": {
     "autoexec": {
      "startup": false,
      "wait_interval": 0
     },
     "base_uri": "https://localhost:8080/",
     "height": 34
    },
    "colab_type": "code",
    "executionInfo": {
     "elapsed": 744,
     "status": "ok",
     "timestamp": 1532914434651,
     "user": {
      "displayName": "Chiranjib Sarma",
      "photoUrl": "//lh5.googleusercontent.com/-qgR21D2ilJw/AAAAAAAAAAI/AAAAAAAAL3Q/viq52ZH0_1I/s50-c-k-no/photo.jpg",
      "userId": "101813071526859824880"
     },
     "user_tz": -330
    },
    "id": "-dxCKgdg0B5Z",
    "outputId": "5e0b0114-f5d3-4235-ada6-ee0a3a132311"
   },
   "outputs": [
    {
     "name": "stdout",
     "output_type": "stream",
     "text": [
      "Number of Rows remaining in the Dataset:  3641710\n"
     ]
    }
   ],
   "source": [
    "print('Number of Rows remaining in the Dataset: ',final.size)"
   ]
  },
  {
   "cell_type": "code",
   "execution_count": 10,
   "metadata": {
    "colab": {
     "autoexec": {
      "startup": false,
      "wait_interval": 0
     },
     "base_uri": "https://localhost:8080/",
     "height": 68
    },
    "colab_type": "code",
    "executionInfo": {
     "elapsed": 1057,
     "status": "ok",
     "timestamp": 1532914435977,
     "user": {
      "displayName": "Chiranjib Sarma",
      "photoUrl": "//lh5.googleusercontent.com/-qgR21D2ilJw/AAAAAAAAAAI/AAAAAAAAL3Q/viq52ZH0_1I/s50-c-k-no/photo.jpg",
      "userId": "101813071526859824880"
     },
     "user_tz": -330
    },
    "id": "xhNqu-Du0B5h",
    "outputId": "2f9bac61-403e-46d1-aced-47414de8b717"
   },
   "outputs": [
    {
     "data": {
      "text/plain": [
       "Positive    307061\n",
       "Negative     57110\n",
       "Name: Score, dtype: int64"
      ]
     },
     "execution_count": 10,
     "metadata": {},
     "output_type": "execute_result"
    }
   ],
   "source": [
    "# Checking the number of positive and negative reviews\n",
    "final['Score'].value_counts()"
   ]
  },
  {
   "cell_type": "code",
   "execution_count": 11,
   "metadata": {
    "colab": {
     "autoexec": {
      "startup": false,
      "wait_interval": 0
     }
    },
    "colab_type": "code",
    "id": "4UxODKLY0B5n"
   },
   "outputs": [],
   "source": [
    "# Data Sampling to be done if required\n",
    "#final = final.iloc[:80000,:]"
   ]
  },
  {
   "cell_type": "code",
   "execution_count": 12,
   "metadata": {
    "colab": {
     "autoexec": {
      "startup": false,
      "wait_interval": 0
     },
     "base_uri": "https://localhost:8080/",
     "height": 429
    },
    "colab_type": "code",
    "executionInfo": {
     "elapsed": 1134,
     "status": "ok",
     "timestamp": 1532914438341,
     "user": {
      "displayName": "Chiranjib Sarma",
      "photoUrl": "//lh5.googleusercontent.com/-qgR21D2ilJw/AAAAAAAAAAI/AAAAAAAAL3Q/viq52ZH0_1I/s50-c-k-no/photo.jpg",
      "userId": "101813071526859824880"
     },
     "user_tz": -330
    },
    "id": "WkPbq0itYFVZ",
    "outputId": "0f337bca-be67-44ec-d786-54ed8e3d8bcb",
    "scrolled": true
   },
   "outputs": [
    {
     "data": {
      "image/png": "[encoded data removed]",
      "text/plain": [
       "<Figure size 432x288 with 1 Axes>"
      ]
     },
     "metadata": {},
     "output_type": "display_data"
    },
    {
     "name": "stdout",
     "output_type": "stream",
     "text": [
      "Positive    307061\n",
      "Negative     57110\n",
      "Name: Score, dtype: int64\n"
     ]
    }
   ],
   "source": [
    "# Checking the number of positive and negative reviews\n",
    "\n",
    "Class_Count  = final['Score'].value_counts()\n",
    "\n",
    "plt.figure()\n",
    "flatui = [\"#15ff00\", \"#ff0033\"]\n",
    "sns.set_palette(flatui)\n",
    "sns.barplot(Class_Count.index, Class_Count.values, alpha=0.8 )\n",
    "plt.title('Positive Class Count vs Negative Class Count')\n",
    "plt.ylabel('Count', fontsize=12)\n",
    "plt.xlabel('Class', fontsize=12)\n",
    "plt.show()\n",
    "\n",
    "print(final['Score'].value_counts())"
   ]
  },
  {
   "cell_type": "markdown",
   "metadata": {},
   "source": [
    "The Dataset is highly Imbalanced with Positive Class being the Majority Class"
   ]
  },
  {
   "cell_type": "markdown",
   "metadata": {},
   "source": [
    "#### 4. Time Based Slicing\n",
    "Since the Reviews may change with time, it is always advisable to apply time-based slicing."
   ]
  },
  {
   "cell_type": "code",
   "execution_count": 13,
   "metadata": {
    "colab": {
     "autoexec": {
      "startup": false,
      "wait_interval": 0
     }
    },
    "colab_type": "code",
    "id": "8DwOqu50uzLy"
   },
   "outputs": [],
   "source": [
    "# Sorting values according to Time for Time Based Slicing\n",
    "final = final.sort_values('Time',kind = 'quicksort')"
   ]
  },
  {
   "cell_type": "markdown",
   "metadata": {},
   "source": [
    "#### 5. Clean the Reviews Text \n",
    "Clean the Reviews Text before applying Naive Bayes Algorithm using techniques such a Stemming,Stop-Words removal and finally removing al html tags and special characters"
   ]
  },
  {
   "cell_type": "code",
   "execution_count": 14,
   "metadata": {
    "colab": {
     "autoexec": {
      "startup": false,
      "wait_interval": 0
     }
    },
    "colab_type": "code",
    "id": "fhD996EI0B5s"
   },
   "outputs": [],
   "source": [
    "# Function to Remove HTML Tags\n",
    "def cleanhtml(sentence):\n",
    "    cleaner = re.compile('<.*?>')\n",
    "    cleantext = re.sub(cleaner,\"\",sentence)\n",
    "    return cleantext"
   ]
  },
  {
   "cell_type": "code",
   "execution_count": 15,
   "metadata": {
    "colab": {
     "autoexec": {
      "startup": false,
      "wait_interval": 0
     }
    },
    "colab_type": "code",
    "id": "fgvl88Ta0B51"
   },
   "outputs": [],
   "source": [
    "# Function to clean punctuations and special characters\n",
    "\n",
    "def cleanpunct(sentence):\n",
    "    cleaned = re.sub(r'[?|!|\\'|\"|#]',r'',sentence)\n",
    "    cleaned = re.sub(r'[.|,|)|(|\\|/]',r' ',cleaned)\n",
    "    return  cleaned\n"
   ]
  },
  {
   "cell_type": "code",
   "execution_count": 16,
   "metadata": {
    "colab": {
     "autoexec": {
      "startup": false,
      "wait_interval": 0
     }
    },
    "colab_type": "code",
    "id": "bXIfgAM80B57"
   },
   "outputs": [],
   "source": [
    "# Initialize Stop words and PorterStemmer and Lemmetizer\n",
    "stop = set(stopwords.words('english'))\n",
    "sno = SnowballStemmer('english')\n",
    "\n",
    "\n",
    "#print(stop)\n",
    "#print('*' * 100)\n",
    "#print(sno.stem('tasty'))"
   ]
  },
  {
   "cell_type": "code",
   "execution_count": 17,
   "metadata": {
    "colab": {
     "autoexec": {
      "startup": false,
      "wait_interval": 0
     }
    },
    "colab_type": "code",
    "id": "c5WzyD7I0B6G"
   },
   "outputs": [
    {
     "name": "stderr",
     "output_type": "stream",
     "text": [
      "100%|██████████| 364171/364171 [07:23<00:00, 821.44it/s] \n"
     ]
    }
   ],
   "source": [
    "\n",
    "# Cleaning HTML and non-Alphanumeric characters from the review text\n",
    "i=0\n",
    "str1=' '\n",
    "final_string=[]\n",
    "all_positive_words=[] # store words from +ve reviews here\n",
    "all_negative_words=[] # store words from -ve reviews here.\n",
    "s=''\n",
    "for sent in tqdm(final['Text'].values):\n",
    "    filtered_sentence=[]\n",
    "    #print(sent);\n",
    "    sent=cleanhtml(sent) # remove HTMl tags\n",
    "    for w in sent.split():\n",
    "        for cleaned_words in cleanpunct(w).split():\n",
    "            if((cleaned_words.isalpha()) & (len(cleaned_words)>2)):    \n",
    "                if(cleaned_words.lower() not in stop):\n",
    "                    s=(sno.stem(cleaned_words.lower())).encode('utf8')\n",
    "                    filtered_sentence.append(s)\n",
    "                    if (final['Score'].values)[i] == 'Positive': \n",
    "                        all_positive_words.append(s) #list of all words used to describe positive reviews\n",
    "                    if(final['Score'].values)[i] == 'Negative':\n",
    "                        all_negative_words.append(s) #list of all words used to describe negative reviews reviews\n",
    "                else:\n",
    "                    continue\n",
    "            else:\n",
    "                continue \n",
    "    #print(filtered_sentence)\n",
    "    str1 = b\" \".join(filtered_sentence) #final string of cleaned words\n",
    "    #print(\"***********************************************************************\")\n",
    "    \n",
    "    final_string.append(str1)\n",
    "    i+=1"
   ]
  },
  {
   "cell_type": "code",
   "execution_count": 18,
   "metadata": {
    "colab": {
     "autoexec": {
      "startup": false,
      "wait_interval": 0
     },
     "base_uri": "https://localhost:8080/",
     "height": 595
    },
    "colab_type": "code",
    "executionInfo": {
     "elapsed": 1128,
     "status": "ok",
     "timestamp": 1532914490174,
     "user": {
      "displayName": "Chiranjib Sarma",
      "photoUrl": "//lh5.googleusercontent.com/-qgR21D2ilJw/AAAAAAAAAAI/AAAAAAAAL3Q/viq52ZH0_1I/s50-c-k-no/photo.jpg",
      "userId": "101813071526859824880"
     },
     "user_tz": -330
    },
    "id": "viaYBLDL0B6L",
    "outputId": "128e0424-4e90-4179-f259-053ce56b5c56"
   },
   "outputs": [
    {
     "data": {
      "text/html": [
       "<div>\n",
       "<style scoped>\n",
       "    .dataframe tbody tr th:only-of-type {\n",
       "        vertical-align: middle;\n",
       "    }\n",
       "\n",
       "    .dataframe tbody tr th {\n",
       "        vertical-align: top;\n",
       "    }\n",
       "\n",
       "    .dataframe thead th {\n",
       "        text-align: right;\n",
       "    }\n",
       "</style>\n",
       "<table border=\"1\" class=\"dataframe\">\n",
       "  <thead>\n",
       "    <tr style=\"text-align: right;\">\n",
       "      <th></th>\n",
       "      <th>Id</th>\n",
       "      <th>ProductId</th>\n",
       "      <th>UserId</th>\n",
       "      <th>ProfileName</th>\n",
       "      <th>HelpfulnessNumerator</th>\n",
       "      <th>HelpfulnessDenominator</th>\n",
       "      <th>Score</th>\n",
       "      <th>Time</th>\n",
       "      <th>Summary</th>\n",
       "      <th>Text</th>\n",
       "      <th>CleanedText</th>\n",
       "    </tr>\n",
       "  </thead>\n",
       "  <tbody>\n",
       "    <tr>\n",
       "      <th>138706</th>\n",
       "      <td>150524</td>\n",
       "      <td>0006641040</td>\n",
       "      <td>ACITT7DI6IDDL</td>\n",
       "      <td>shari zychinski</td>\n",
       "      <td>0</td>\n",
       "      <td>0</td>\n",
       "      <td>Positive</td>\n",
       "      <td>939340800</td>\n",
       "      <td>EVERY book is educational</td>\n",
       "      <td>this witty little book makes my son laugh at l...</td>\n",
       "      <td>b'witti littl book make son laugh loud recit c...</td>\n",
       "    </tr>\n",
       "    <tr>\n",
       "      <th>138683</th>\n",
       "      <td>150501</td>\n",
       "      <td>0006641040</td>\n",
       "      <td>AJ46FKXOVC7NR</td>\n",
       "      <td>Nicholas A Mesiano</td>\n",
       "      <td>2</td>\n",
       "      <td>2</td>\n",
       "      <td>Positive</td>\n",
       "      <td>940809600</td>\n",
       "      <td>This whole series is great way to spend time w...</td>\n",
       "      <td>I can remember seeing the show when it aired o...</td>\n",
       "      <td>b'rememb see show air televis year ago child s...</td>\n",
       "    </tr>\n",
       "    <tr>\n",
       "      <th>417839</th>\n",
       "      <td>451856</td>\n",
       "      <td>B00004CXX9</td>\n",
       "      <td>AIUWLEQ1ADEG5</td>\n",
       "      <td>Elizabeth Medina</td>\n",
       "      <td>0</td>\n",
       "      <td>0</td>\n",
       "      <td>Positive</td>\n",
       "      <td>944092800</td>\n",
       "      <td>Entertainingl Funny!</td>\n",
       "      <td>Beetlejuice is a well written movie ..... ever...</td>\n",
       "      <td>b'beetlejuic well written movi everyth excel a...</td>\n",
       "    </tr>\n",
       "    <tr>\n",
       "      <th>212472</th>\n",
       "      <td>230285</td>\n",
       "      <td>B00004RYGX</td>\n",
       "      <td>A344SMIA5JECGM</td>\n",
       "      <td>Vincent P. Ross</td>\n",
       "      <td>1</td>\n",
       "      <td>2</td>\n",
       "      <td>Positive</td>\n",
       "      <td>944438400</td>\n",
       "      <td>A modern day fairy tale</td>\n",
       "      <td>A twist of rumplestiskin captured on film, sta...</td>\n",
       "      <td>b'twist rumplestiskin captur film star michael...</td>\n",
       "    </tr>\n",
       "    <tr>\n",
       "      <th>417838</th>\n",
       "      <td>451855</td>\n",
       "      <td>B00004CXX9</td>\n",
       "      <td>AJH6LUC1UT1ON</td>\n",
       "      <td>The Phantom of the Opera</td>\n",
       "      <td>0</td>\n",
       "      <td>0</td>\n",
       "      <td>Positive</td>\n",
       "      <td>946857600</td>\n",
       "      <td>FANTASTIC!</td>\n",
       "      <td>Beetlejuice is an excellent and funny movie. K...</td>\n",
       "      <td>b'beetlejuic excel funni movi keaton hilari wa...</td>\n",
       "    </tr>\n",
       "  </tbody>\n",
       "</table>\n",
       "</div>"
      ],
      "text/plain": [
       "            Id   ProductId          UserId               ProfileName  \\\n",
       "138706  150524  0006641040   ACITT7DI6IDDL           shari zychinski   \n",
       "138683  150501  0006641040   AJ46FKXOVC7NR        Nicholas A Mesiano   \n",
       "417839  451856  B00004CXX9   AIUWLEQ1ADEG5          Elizabeth Medina   \n",
       "212472  230285  B00004RYGX  A344SMIA5JECGM           Vincent P. Ross   \n",
       "417838  451855  B00004CXX9   AJH6LUC1UT1ON  The Phantom of the Opera   \n",
       "\n",
       "        HelpfulnessNumerator  HelpfulnessDenominator     Score       Time  \\\n",
       "138706                     0                       0  Positive  939340800   \n",
       "138683                     2                       2  Positive  940809600   \n",
       "417839                     0                       0  Positive  944092800   \n",
       "212472                     1                       2  Positive  944438400   \n",
       "417838                     0                       0  Positive  946857600   \n",
       "\n",
       "                                                  Summary  \\\n",
       "138706                          EVERY book is educational   \n",
       "138683  This whole series is great way to spend time w...   \n",
       "417839                               Entertainingl Funny!   \n",
       "212472                            A modern day fairy tale   \n",
       "417838                                         FANTASTIC!   \n",
       "\n",
       "                                                     Text  \\\n",
       "138706  this witty little book makes my son laugh at l...   \n",
       "138683  I can remember seeing the show when it aired o...   \n",
       "417839  Beetlejuice is a well written movie ..... ever...   \n",
       "212472  A twist of rumplestiskin captured on film, sta...   \n",
       "417838  Beetlejuice is an excellent and funny movie. K...   \n",
       "\n",
       "                                              CleanedText  \n",
       "138706  b'witti littl book make son laugh loud recit c...  \n",
       "138683  b'rememb see show air televis year ago child s...  \n",
       "417839  b'beetlejuic well written movi everyth excel a...  \n",
       "212472  b'twist rumplestiskin captur film star michael...  \n",
       "417838  b'beetlejuic excel funni movi keaton hilari wa...  "
      ]
     },
     "execution_count": 18,
     "metadata": {},
     "output_type": "execute_result"
    }
   ],
   "source": [
    "# Add the cleaned reviews as a new column to the DataFrame\n",
    "final['CleanedText']=final_string\n",
    "final.head(5)"
   ]
  },
  {
   "cell_type": "markdown",
   "metadata": {
    "colab_type": "text",
    "id": "IM5_xHB20B6P"
   },
   "source": [
    "### 6.Naive Bayes Algorithm"
   ]
  },
  {
   "cell_type": "code",
   "execution_count": 19,
   "metadata": {
    "colab": {
     "autoexec": {
      "startup": false,
      "wait_interval": 0
     }
    },
    "colab_type": "code",
    "id": "D9sxyqjiZfra"
   },
   "outputs": [],
   "source": [
    "#Dictionary for storing Metrics\n",
    "Final_Metrics =pd.DataFrame()\n",
    "Final_List = []"
   ]
  },
  {
   "cell_type": "code",
   "execution_count": 20,
   "metadata": {
    "colab": {
     "autoexec": {
      "startup": false,
      "wait_interval": 0
     }
    },
    "colab_type": "code",
    "id": "OacjfPOW0B6Q"
   },
   "outputs": [],
   "source": [
    "\n",
    "# Function for Naive Bayes\n",
    "def runNB(X_Train,X_Test,y_train,y_test,VectorizationType,count_vect):\n",
    "    global Final_Metrics\n",
    "    # to store the cv scores after 10-fold Cross Validation\n",
    "    cv_scores = []\n",
    "    # to store the Alpha scores after 10-fold Cross Validation\n",
    "    k_value = []\n",
    "    \n",
    "    Train_Scores = []\n",
    "    Test_Scores = []\n",
    "    \n",
    "    #algorithm = ['kd_tree','brute']\n",
    "    algo = 'Naive Bayes'\n",
    "        \n",
    "    \n",
    "    j=0    \n",
    "    for i in range(2,30,2):\n",
    "        # instantiate learning model (k = 30)\n",
    "        nb = MultinomialNB(alpha=i)\n",
    "        #print(i,X_Train,y_train)\n",
    "        scores = cross_val_score(nb, X_Train, y_train, cv=10, scoring='accuracy')\n",
    "        #print(scores)\n",
    "        cv_scores.append(scores.mean())\n",
    "        k_value.append(i)\n",
    "        #print(i,' ',scores.mean())\n",
    "\n",
    "        \n",
    "        print('For Alpha = ', i,'Accuracy Score = ', cv_scores[j])\n",
    "        \n",
    "        j+=1\n",
    "        #print(max(cv_scores))\n",
    "    #print('CV SCore',cv_scores)\n",
    "    \n",
    "    #get the optimum alpha value after 10-Fold CV\n",
    "    alpha_optimum = k_value[cv_scores.index(max(cv_scores))]\n",
    "    \n",
    "    # Plot the Alpha vs CV Score \n",
    "    plt.plot(k_value,cv_scores,'-o')\n",
    "    plt.xlabel('Alpha Value')\n",
    "    plt.ylabel('CV-Scores')\n",
    "    plt.title('Alpha Value vs CV-Scores')\n",
    "    print('*' * 300)\n",
    "    #print('Max CV',max(cv_scores))\n",
    "    #print('Index',cv_scores.index(max(cv_scores)) )\n",
    "    #print('K_Value', k_value[cv_scores.index(max(cv_scores))])\n",
    "    #print(alpha_optimum,'Alpha Opt')\n",
    "\n",
    "    nb = MultinomialNB(alpha=alpha_optimum)\n",
    "        # fitting the model on crossvalidation train\n",
    "    nb.fit(X_Train, y_train)\n",
    "\n",
    "        # predict the response on the crossvalidation train\n",
    "    pred = nb.predict(X_Test)\n",
    "    \n",
    "    \n",
    "    #Logic to implement Feature Importance\n",
    "    #The probability values are sorted to get the most important features for each class\n",
    "    neg_class_prob_sorted = nb.feature_log_prob_[0, :].argsort()\n",
    "    pos_class_prob_sorted = nb.feature_log_prob_[1, :].argsort()\n",
    "\n",
    "    \n",
    "    # Prints out the Important Features for both Positive and Negative Class\n",
    "    print(\"Feature Importance for Negative Class: \",np.take(count_vect.get_feature_names(), neg_class_prob_sorted[:10]))\n",
    "    print(\"Feature Importance for Positive Class: \",np.take(count_vect.get_feature_names(), pos_class_prob_sorted[:10]))\n",
    "\n",
    "        # evaluate CV accuracy\n",
    "        #acc = accuracy_score(y_cv_input, pred, normalize=True) * float(100)\n",
    "    print('\\nDetails for ',VectorizationType,'Vectorization:')\n",
    "    print('*'*100)\n",
    "    print('Accuracy for',algo,' algorithm with alpha =',alpha_optimum,' is ' ,np.round((accuracy_score(y_test, pred)*100),decimals = 2))\n",
    "    print('F1 score for',algo,' algorithm with alpha =',alpha_optimum,' is ' , np.round((f1_score(y_test, pred,average= 'macro')*100),decimals = 2))\n",
    "    print('Recall for',algo,' agorithm with alpha =',alpha_optimum,' is ' , np.round((recall_score(y_test, pred,average= 'macro')*100),decimals = 2))\n",
    "    print('Precision for',algo,' algorithm with aplha =',alpha_optimum,' is ' , np.round((precision_score(y_test, pred,average= 'macro')*100),decimals = 2))\n",
    "    print ('\\n Classification report for',algo,' algorithm with alpha =',alpha_optimum,' is \\n ' , classification_report(y_test,pred))\n",
    "    #print ('\\n Confusion matrix for',algo,' algorithm with alpha =',alpha_optimum,' is \\n' ,confusion_matrix(y_cv_input, pred))\n",
    "    \n",
    "    Train_Scores.append(nb.score(X_Train, y_train))\n",
    "    Test_Scores.append(nb.score(X_Test, y_test))\n",
    "      \n",
    "    Temp_List = [algo,VectorizationType,alpha_optimum,nb.score(X_Train, y_train)*100,nb.score(X_Test, y_test)*100]\n",
    "        #print(Temp_List)\n",
    "    Final_Metrics = Final_Metrics.append({'Algorithm': algo,'Vectorization':VectorizationType,'HyperParameter':alpha_optimum,\n",
    "                                              'Training Accuracy Score': nb.score(X_Train, y_train)*100,\n",
    "                                              'Testing Accuracy Score':nb.score(X_Test, y_test)*100},\n",
    "                                            ignore_index=True)\n",
    "    \n",
    "    \n",
    "    # Plotting the Confusion Matrix\n",
    "    plt.figure()\n",
    "    confusion_matrix_Plot = confusion_matrix(y_test,pred)\n",
    "    heatmap = sns.heatmap(confusion_matrix_Plot, annot=True, fmt=\"d\")\n",
    "    heatmap.yaxis.set_ticklabels(heatmap.yaxis.get_ticklabels(), rotation=0, ha='right')\n",
    "    heatmap.xaxis.set_ticklabels(heatmap.xaxis.get_ticklabels(), rotation=45, ha='right')\n",
    "    plt.ylabel('True label')\n",
    "    plt.xlabel('Predicted label')"
   ]
  },
  {
   "cell_type": "markdown",
   "metadata": {
    "colab_type": "text",
    "id": "kKIoEpBV0B6V"
   },
   "source": [
    "### 7. Text Vectorization Techniques\n",
    "#### A. Bag of Words"
   ]
  },
  {
   "cell_type": "code",
   "execution_count": 21,
   "metadata": {
    "colab": {
     "autoexec": {
      "startup": false,
      "wait_interval": 0
     }
    },
    "colab_type": "code",
    "id": "HX4J6qCkcFq2"
   },
   "outputs": [],
   "source": [
    "#Splitting into Training and Testing Set, and using only Training set for Word2Vec Training\n",
    "X_Train,X_Test,y_train,y_test = train_test_split(final['CleanedText'],final['Score'])"
   ]
  },
  {
   "cell_type": "code",
   "execution_count": 22,
   "metadata": {
    "colab": {
     "autoexec": {
      "startup": false,
      "wait_interval": 0
     }
    },
    "colab_type": "code",
    "id": "-GqVD9UV0B6W"
   },
   "outputs": [],
   "source": [
    "# BoW Vectorization\n",
    "\n",
    "vect = CountVectorizer().fit(X_Train)\n",
    "X_Train = vect.transform(X_Train)\n",
    "X_Test = vect.transform(X_Test)"
   ]
  },
  {
   "cell_type": "code",
   "execution_count": 23,
   "metadata": {
    "colab": {
     "autoexec": {
      "startup": false,
      "wait_interval": 0
     },
     "base_uri": "https://localhost:8080/",
     "height": 1302
    },
    "colab_type": "code",
    "executionInfo": {
     "elapsed": 11123,
     "status": "ok",
     "timestamp": 1532914512353,
     "user": {
      "displayName": "Chiranjib Sarma",
      "photoUrl": "//lh5.googleusercontent.com/-qgR21D2ilJw/AAAAAAAAAAI/AAAAAAAAL3Q/viq52ZH0_1I/s50-c-k-no/photo.jpg",
      "userId": "101813071526859824880"
     },
     "user_tz": -330
    },
    "id": "QfiUuInl3hcq",
    "outputId": "eac12418-80ac-466f-a1bb-7bb9cc40cbfa"
   },
   "outputs": [
    {
     "name": "stdout",
     "output_type": "stream",
     "text": [
      "For Alpha =  2 Accuracy Score =  0.9025182246913804\n",
      "For Alpha =  4 Accuracy Score =  0.8964954083506147\n",
      "For Alpha =  6 Accuracy Score =  0.8858630406080612\n",
      "For Alpha =  8 Accuracy Score =  0.875091533449401\n",
      "For Alpha =  10 Accuracy Score =  0.8664545601611676\n",
      "For Alpha =  12 Accuracy Score =  0.8596775152358044\n",
      "For Alpha =  14 Accuracy Score =  0.8550496486858516\n",
      "For Alpha =  16 Accuracy Score =  0.8515457951862011\n",
      "For Alpha =  18 Accuracy Score =  0.8491110342250495\n",
      "For Alpha =  20 Accuracy Score =  0.8473572795931181\n",
      "For Alpha =  22 Accuracy Score =  0.846152719220439\n",
      "For Alpha =  24 Accuracy Score =  0.8453142874154148\n",
      "For Alpha =  26 Accuracy Score =  0.8445930145966596\n",
      "For Alpha =  28 Accuracy Score =  0.8441207078742421\n",
      "************************************************************************************************************************************************************************************************************************************************************************************************************\n",
      "Feature Importance for Negative Class:  ['aa' 'noteit' 'notespaul' 'notetongol' 'notev' 'noteven' 'notexcel'\n",
      " 'notfin' 'notget' 'notgreat']\n",
      "Feature Importance for Positive Class:  ['stupidest' 'tussi' 'cistanchi' 'lichen' 'libzar' 'liberto' 'libe'\n",
      " 'citrisolv' 'citronella' 'liarsavoid']\n",
      "\n",
      "Details for  Bag of Words Vectorization:\n",
      "****************************************************************************************************\n",
      "Accuracy for Naive Bayes  algorithm with alpha = 2  is  90.66\n",
      "F1 score for Naive Bayes  algorithm with alpha = 2  is  80.46\n",
      "Recall for Naive Bayes  agorithm with alpha = 2  is  77.81\n",
      "Precision for Naive Bayes  algorithm with aplha = 2  is  84.15\n",
      "\n",
      " Classification report for Naive Bayes  algorithm with alpha = 2  is \n",
      "               precision    recall  f1-score   support\n",
      "\n",
      "   Negative       0.76      0.59      0.66     14178\n",
      "   Positive       0.93      0.96      0.95     76865\n",
      "\n",
      "avg / total       0.90      0.91      0.90     91043\n",
      "\n"
     ]
    },
    {
     "data": {
      "image/png": "[encoded data removed]",
      "text/plain": [
       "<Figure size 432x288 with 1 Axes>"
      ]
     },
     "metadata": {},
     "output_type": "display_data"
    },
    {
     "data": {
      "image/png": "[encoded data removed]",
      "text/plain": [
       "<Figure size 432x288 with 2 Axes>"
      ]
     },
     "metadata": {},
     "output_type": "display_data"
    }
   ],
   "source": [
    "runNB(X_Train,X_Test,y_train,y_test,'Bag of Words',vect)\n"
   ]
  },
  {
   "cell_type": "markdown",
   "metadata": {},
   "source": [
    "#### Using 10-Fold cross validation, the optimal Alpha value was set to 2. Using this Alpha value, the Naive Bayes Algorithm was run on the BOW vectorized  text data to get an accuracy of 90.66%. The Function also returns the other metrics like F1 Score,Precision and Recall, along with the Classification Report. The Confusion Matrix is also plotted using HeatMap."
   ]
  },
  {
   "cell_type": "markdown",
   "metadata": {
    "colab_type": "text",
    "id": "kSD6We0L0B6a"
   },
   "source": [
    "#### B. Using TF-IDF"
   ]
  },
  {
   "cell_type": "code",
   "execution_count": 24,
   "metadata": {
    "colab": {
     "autoexec": {
      "startup": false,
      "wait_interval": 0
     }
    },
    "colab_type": "code",
    "id": "7CqkY220xihi"
   },
   "outputs": [],
   "source": [
    "#Splitting into Training and Testing Set\n",
    "X_Train,X_Test,y_train,y_test = train_test_split(final['CleanedText'],final['Score'])"
   ]
  },
  {
   "cell_type": "code",
   "execution_count": 25,
   "metadata": {},
   "outputs": [],
   "source": [
    "# Using on TRain Dataset for fitting the TFIDF\n",
    "tf_idf_vect = TfidfVectorizer(ngram_range=(1,2))\n",
    "tfidf_Train = tf_idf_vect.fit_transform(X_Train.values)\n",
    "\n",
    "# Using TRain fitted TFIDF to transform Test Dataset\n",
    "tfidf_Test = tf_idf_vect.transform(X_Test.values)"
   ]
  },
  {
   "cell_type": "code",
   "execution_count": 26,
   "metadata": {},
   "outputs": [
    {
     "name": "stdout",
     "output_type": "stream",
     "text": [
      "the type of count vectorizer  <class 'scipy.sparse.csr.csr_matrix'>\n",
      "the shape of out text TFIDF vectorizer  (273128, 2501383)\n",
      "the number of unique words including both unigrams and bigrams  2501383\n",
      "the type of count vectorizer  <class 'scipy.sparse.csr.csr_matrix'>\n",
      "the shape of out text TFIDF vectorizer  (91043, 2501383)\n",
      "the number of unique words including both unigrams and bigrams  2501383\n"
     ]
    }
   ],
   "source": [
    "#Check the structure of TFIDF transformed Train Dataset\n",
    "print(\"the type of count vectorizer \",type(tfidf_Train))\n",
    "print(\"the shape of out text TFIDF vectorizer \",tfidf_Train.get_shape())\n",
    "print(\"the number of unique words including both unigrams and bigrams \", tfidf_Train.get_shape()[1])\n",
    "\n",
    "\n",
    "#Check the structure of TFIDF transformed Test Dataset\n",
    "print(\"the type of count vectorizer \",type(tfidf_Test))\n",
    "print(\"the shape of out text TFIDF vectorizer \",tfidf_Test.get_shape())\n",
    "print(\"the number of unique words including both unigrams and bigrams \", tfidf_Test.get_shape()[1])\n",
    "\n",
    "X_train_Vectorised = tfidf_Train\n",
    "X_test_Vectorised = tfidf_Test"
   ]
  },
  {
   "cell_type": "code",
   "execution_count": 27,
   "metadata": {
    "colab": {
     "autoexec": {
      "startup": false,
      "wait_interval": 0
     },
     "base_uri": "https://localhost:8080/",
     "height": 1302
    },
    "colab_type": "code",
    "executionInfo": {
     "elapsed": 143233,
     "status": "ok",
     "timestamp": 1532915148873,
     "user": {
      "displayName": "Chiranjib Sarma",
      "photoUrl": "//lh5.googleusercontent.com/-qgR21D2ilJw/AAAAAAAAAAI/AAAAAAAAL3Q/viq52ZH0_1I/s50-c-k-no/photo.jpg",
      "userId": "101813071526859824880"
     },
     "user_tz": -330
    },
    "id": "6_QoK6A031tt",
    "outputId": "303db379-5a5f-4376-dbc3-255afa21774d"
   },
   "outputs": [
    {
     "name": "stdout",
     "output_type": "stream",
     "text": [
      "For Alpha =  2 Accuracy Score =  0.8426964650525643\n",
      "For Alpha =  4 Accuracy Score =  0.8426891423980996\n",
      "For Alpha =  6 Accuracy Score =  0.8426891423980996\n",
      "For Alpha =  8 Accuracy Score =  0.8426891423980996\n",
      "For Alpha =  10 Accuracy Score =  0.8426891423980996\n",
      "For Alpha =  12 Accuracy Score =  0.8426891423980996\n",
      "For Alpha =  14 Accuracy Score =  0.8426891423980996\n",
      "For Alpha =  16 Accuracy Score =  0.8426891423980996\n",
      "For Alpha =  18 Accuracy Score =  0.8426891423980996\n",
      "For Alpha =  20 Accuracy Score =  0.8426891423980996\n",
      "For Alpha =  22 Accuracy Score =  0.8426891423980996\n",
      "For Alpha =  24 Accuracy Score =  0.8426891423980996\n",
      "For Alpha =  26 Accuracy Score =  0.8426891423980996\n",
      "For Alpha =  28 Accuracy Score =  0.8426891423980996\n",
      "************************************************************************************************************************************************************************************************************************************************************************************************************\n",
      "Feature Importance for Negative Class:  ['aa' 'onion sopm' 'onion soon' 'onion soo' 'onion sometim'\n",
      " 'onion solidifi' 'onion solid' 'onion sodium' 'onion soak' 'onion snack']\n",
      "Feature Importance for Positive Class:  ['normal marinad' 'scam dollar' 'coon like' 'pass ground' 'glycol oil'\n",
      " 'via mocha' 'item summar' 'pass grow' 'item summari' 'scam custom']\n",
      "\n",
      "Details for  TF-IDF Vectorization:\n",
      "****************************************************************************************************\n",
      "Accuracy for Naive Bayes  algorithm with alpha = 2  is  84.47\n",
      "F1 score for Naive Bayes  algorithm with alpha = 2  is  45.8\n",
      "Recall for Naive Bayes  agorithm with alpha = 2  is  50.0\n",
      "Precision for Naive Bayes  algorithm with aplha = 2  is  92.23\n",
      "\n",
      " Classification report for Naive Bayes  algorithm with alpha = 2  is \n",
      "               precision    recall  f1-score   support\n",
      "\n",
      "   Negative       1.00      0.00      0.00     14144\n",
      "   Positive       0.84      1.00      0.92     76899\n",
      "\n",
      "avg / total       0.87      0.84      0.77     91043\n",
      "\n"
     ]
    },
    {
     "data": {
      "image/png": "[encoded data removed]",
      "text/plain": [
       "<Figure size 432x288 with 1 Axes>"
      ]
     },
     "metadata": {},
     "output_type": "display_data"
    },
    {
     "data": {
      "image/png": "[encoded data removed]",
      "text/plain": [
       "<Figure size 432x288 with 2 Axes>"
      ]
     },
     "metadata": {},
     "output_type": "display_data"
    }
   ],
   "source": [
    "runNB(X_train_Vectorised,X_test_Vectorised,y_train,y_test,'TF-IDF',tf_idf_vect)"
   ]
  },
  {
   "cell_type": "markdown",
   "metadata": {},
   "source": [
    "#### Using 10-Fold cross validation, the optimal Alpha value was set to 2. Using this Alpha value, the Naive Bayes Algorithm was run on the TFIDF vectorized  text data to get an accuracy of 84.47%. The Function also returns the other metrics like F1 Score,Precision and Recall, along with the Classification Report. The Confusion Matrix is also plotted using HeatMap."
   ]
  },
  {
   "cell_type": "markdown",
   "metadata": {},
   "source": [
    "### 8. Other Vectorization Techniques\n",
    "#### Other vectorization techniques like Average Word2Vec and TFIDF Weighted Word2Vec are not used because they consider the relation between words forming the text. Since, the major assumption of Naive Bayes is Independence of Features, it will not be fruitful emplying Naive Bayes on the above vectorization techniques."
   ]
  },
  {
   "cell_type": "markdown",
   "metadata": {},
   "source": [
    "### 9. Results"
   ]
  },
  {
   "cell_type": "code",
   "execution_count": 28,
   "metadata": {
    "colab": {
     "autoexec": {
      "startup": false,
      "wait_interval": 0
     },
     "base_uri": "https://localhost:8080/",
     "height": 297
    },
    "colab_type": "code",
    "executionInfo": {
     "elapsed": 1239,
     "status": "ok",
     "timestamp": 1532917502103,
     "user": {
      "displayName": "Chiranjib Sarma",
      "photoUrl": "//lh5.googleusercontent.com/-qgR21D2ilJw/AAAAAAAAAAI/AAAAAAAAL3Q/viq52ZH0_1I/s50-c-k-no/photo.jpg",
      "userId": "101813071526859824880"
     },
     "user_tz": -330
    },
    "id": "gVNUYZkN0B7B",
    "outputId": "de6c6b6e-bf4d-4898-f878-882a0817d388"
   },
   "outputs": [
    {
     "data": {
      "text/html": [
       "<div>\n",
       "<style scoped>\n",
       "    .dataframe tbody tr th:only-of-type {\n",
       "        vertical-align: middle;\n",
       "    }\n",
       "\n",
       "    .dataframe tbody tr th {\n",
       "        vertical-align: top;\n",
       "    }\n",
       "\n",
       "    .dataframe thead th {\n",
       "        text-align: right;\n",
       "    }\n",
       "</style>\n",
       "<table border=\"1\" class=\"dataframe\">\n",
       "  <thead>\n",
       "    <tr style=\"text-align: right;\">\n",
       "      <th></th>\n",
       "      <th>Algorithm</th>\n",
       "      <th>HyperParameter</th>\n",
       "      <th>Testing Accuracy Score</th>\n",
       "      <th>Training Accuracy Score</th>\n",
       "      <th>Vectorization</th>\n",
       "    </tr>\n",
       "  </thead>\n",
       "  <tbody>\n",
       "    <tr>\n",
       "      <th>0</th>\n",
       "      <td>Naive Bayes</td>\n",
       "      <td>2.0</td>\n",
       "      <td>90.657162</td>\n",
       "      <td>91.047787</td>\n",
       "      <td>Bag of Words</td>\n",
       "    </tr>\n",
       "    <tr>\n",
       "      <th>1</th>\n",
       "      <td>Naive Bayes</td>\n",
       "      <td>2.0</td>\n",
       "      <td>84.465582</td>\n",
       "      <td>84.271111</td>\n",
       "      <td>TF-IDF</td>\n",
       "    </tr>\n",
       "  </tbody>\n",
       "</table>\n",
       "</div>"
      ],
      "text/plain": [
       "     Algorithm  HyperParameter  Testing Accuracy Score  \\\n",
       "0  Naive Bayes             2.0               90.657162   \n",
       "1  Naive Bayes             2.0               84.465582   \n",
       "\n",
       "   Training Accuracy Score Vectorization  \n",
       "0                91.047787  Bag of Words  \n",
       "1                84.271111        TF-IDF  "
      ]
     },
     "execution_count": 28,
     "metadata": {},
     "output_type": "execute_result"
    }
   ],
   "source": [
    "# Plotting the table showing comparison between the two vectorization techniques\n",
    "Final_Metrics"
   ]
  },
  {
   "cell_type": "markdown",
   "metadata": {
    "colab_type": "text",
    "id": "I0QWZhNnDibR"
   },
   "source": [
    "**The Above table shows that Naive Bayes Algorithm run using Bag of Words Vectorization technique results in the highest Testing Accuracy of 90.657162%  with an Alpha Value of 2.**"
   ]
  },
  {
   "cell_type": "markdown",
   "metadata": {
    "colab": {
     "autoexec": {
      "startup": false,
      "wait_interval": 0
     }
    },
    "colab_type": "code",
    "id": "_9LJNqdW0B7F"
   },
   "source": [
    "### 10. Conclusion\n",
    "#### This Notebook goes through the follwoing steps -\n",
    "1. Importing Packages\n",
    "2. Importing Dataset\n",
    "3. Data Pre-Processing\n",
    "4. Text Cleaning\n",
    "5. Vectorization of Text Data\n",
    "6. Finding the Optimal Hyperparameter value using k-Fold CV\n",
    "7. Applying Naive Bayes Algorithm\n",
    "8. Plotting the metrics\n",
    "9. Comparison of metrics of various vectorization techniques"
   ]
  }
 ],
 "metadata": {
  "accelerator": "GPU",
  "colab": {
   "collapsed_sections": [],
   "default_view": {},
   "name": "KNN_on_Amazon_Food_Reviews_50k_27JUN18.ipynb",
   "provenance": [
    {
     "file_id": "1GzNApbmjR1HrQKsYScthU9T_liJcYujx",
     "timestamp": 1530061772229
    }
   ],
   "version": "0.3.2",
   "views": {}
  },
  "kernelspec": {
   "display_name": "Python 3",
   "language": "python",
   "name": "python3"
  },
  "language_info": {
   "codemirror_mode": {
    "name": "ipython",
    "version": 3
   },
   "file_extension": ".py",
   "mimetype": "text/x-python",
   "name": "python",
   "nbconvert_exporter": "python",
   "pygments_lexer": "ipython3",
   "version": "3.5.3"
  }
 },
 "nbformat": 4,
 "nbformat_minor": 1
}
