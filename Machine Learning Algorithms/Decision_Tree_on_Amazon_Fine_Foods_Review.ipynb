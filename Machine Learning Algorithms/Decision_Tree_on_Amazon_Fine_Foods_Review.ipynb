{
 "cells": [
  {
   "cell_type": "markdown",
   "metadata": {
    "colab_type": "text",
    "id": "PHhbwnqa0B4C"
   },
   "source": [
    ">    **Decision Tree on Amazon Fine Foods Reviews**\n",
    "\n",
    "A decision tree is one of most frequently and widely used supervised machine learning algorithms that can perform both regression and classification tasks. The intuition behind the decision tree algorithm is simple, yet also very powerful.\n",
    "\n",
    "For each attribute in the dataset, the decision tree algorithm forms a node, where the most important attribute is placed at the root node. For evaluation we start at the root node and work our way down the tree by following the corresponding node that meets our condition or \"decision\". This process continues until a leaf node is reached, which contains the prediction or the outcome of the decision tree.\n",
    "\n",
    "**Objective** - Run Decision Tree Algorithms using Gini Criterion on Amazon Fine Foods Review Dataset using  Avg Word2Vec and TF-IDF weighed Word2Vec vectorization methods. Also to report the metrics for each iteration. Time based splitting to be followed.\n",
    "\n",
    "\n",
    "**Kaggle Dataset Location** - https://www.kaggle.com/snap/amazon-fine-food-reviews/data\n",
    "\n"
   ]
  },
  {
   "cell_type": "markdown",
   "metadata": {
    "colab_type": "text",
    "id": "UO3bcw0R0B4E"
   },
   "source": [
    "**1. Importing required packages**"
   ]
  },
  {
   "cell_type": "code",
   "execution_count": 0,
   "metadata": {
    "colab": {
     "autoexec": {
      "startup": false,
      "wait_interval": 0
     }
    },
    "colab_type": "code",
    "id": "jxMIQTh5Dd9X"
   },
   "outputs": [],
   "source": [
    "'''!pip install -U gensim\n",
    "import nltk\n",
    "nltk.download()'''\n",
    "\n",
    "import warnings\n",
    "warnings.filterwarnings('ignore')"
   ]
  },
  {
   "cell_type": "code",
   "execution_count": 0,
   "metadata": {
    "colab": {
     "autoexec": {
      "startup": false,
      "wait_interval": 0
     }
    },
    "colab_type": "code",
    "id": "jBfS3wst0B4I"
   },
   "outputs": [],
   "source": [
    "# import packages\n",
    "import pandas as pd\n",
    "import numpy as np\n",
    "import matplotlib.pyplot as plt\n",
    "import seaborn as sns\n",
    "import string\n",
    "import sqlite3\n",
    "import re\n",
    "from nltk.corpus import stopwords\n",
    "from nltk.stem import PorterStemmer\n",
    "from nltk.stem import SnowballStemmer\n",
    "from nltk.stem.wordnet import WordNetLemmatizer\n",
    "from sklearn.neighbors import KNeighborsClassifier\n",
    "from sklearn.metrics import accuracy_score,precision_score,recall_score,confusion_matrix,classification_report,f1_score\n",
    "from sklearn.decomposition import TruncatedSVD\n",
    "from sklearn import cross_validation\n",
    "from sklearn.cross_validation import cross_val_score\n",
    "from sklearn.feature_extraction.text import CountVectorizer\n",
    "from sklearn.feature_extraction.text import TfidfVectorizer\n",
    "import gensim\n",
    "from sklearn.model_selection import train_test_split\n",
    "from sklearn import tree\n"
   ]
  },
  {
   "cell_type": "markdown",
   "metadata": {
    "colab_type": "text",
    "id": "SDH3RqDG0B4T"
   },
   "source": [
    "**2. Importing Dataset from database.sqlite and ignoring reviews with Score  = 3 as they represent a neutral view**"
   ]
  },
  {
   "cell_type": "code",
   "execution_count": 0,
   "metadata": {
    "colab": {
     "autoexec": {
      "startup": false,
      "wait_interval": 0
     }
    },
    "colab_type": "code",
    "id": "lmaNkmh7Nv_R"
   },
   "outputs": [],
   "source": [
    "# Code to read csv file into colaboratory:\n",
    "!pip install -U -q PyDrive\n",
    "from pydrive.auth import GoogleAuth\n",
    "from pydrive.drive import GoogleDrive\n",
    "from google.colab import auth\n",
    "from oauth2client.client import GoogleCredentials\n",
    "\n",
    "# 1. Authenticate and create the PyDrive client.\n",
    "auth.authenticate_user()\n",
    "gauth = GoogleAuth()\n",
    "gauth.credentials = GoogleCredentials.get_application_default()\n",
    "drive = GoogleDrive(gauth)\n",
    "\n",
    "#2. Get the file\n",
    "downloaded = drive.CreateFile({'id':'1aeCGYtXU-YcvPMJfM9xxgFy2vooP-Xdk'}) # replace the id with id of file you want to access\n",
    "downloaded.GetContentFile('database.sqlite')  \n",
    "\n",
    "#3. Read file as panda dataframe\n",
    "#import pandas as pd\n",
    "#mnist_data = pd.read_csv('xyz.csv') "
   ]
  },
  {
   "cell_type": "code",
   "execution_count": 0,
   "metadata": {
    "colab": {
     "autoexec": {
      "startup": false,
      "wait_interval": 0
     }
    },
    "colab_type": "code",
    "id": "Sn4EnmMU0B4U"
   },
   "outputs": [],
   "source": [
    "# creating sql connection string\n",
    "con = sqlite3.connect('database.sqlite')"
   ]
  },
  {
   "cell_type": "code",
   "execution_count": 0,
   "metadata": {
    "colab": {
     "autoexec": {
      "startup": false,
      "wait_interval": 0
     }
    },
    "colab_type": "code",
    "id": "3AkXVJ2-0B4b"
   },
   "outputs": [],
   "source": [
    "#Positive Review - Rating above 3\n",
    "#Negative Review - Rating below 3\n",
    "#Ignoring Reviews with 3 Rating\n",
    "\n",
    "filtered_data = pd.read_sql_query('SELECT * from Reviews WHERE Score != 3',con)"
   ]
  },
  {
   "cell_type": "code",
   "execution_count": 0,
   "metadata": {
    "colab": {
     "autoexec": {
      "startup": false,
      "wait_interval": 0
     }
    },
    "colab_type": "code",
    "id": "OJ7X-OGZ0B4m"
   },
   "outputs": [],
   "source": [
    "# mapping ratings above 3 as Positive and below 3 as Negative\n",
    "\n",
    "actual_scores = filtered_data['Score']\n",
    "positiveNegative = actual_scores.map(lambda x: 'Positive' if x>3 else 'Negative')\n",
    "filtered_data['Score'] = positiveNegative"
   ]
  },
  {
   "cell_type": "code",
   "execution_count": 0,
   "metadata": {
    "colab": {
     "autoexec": {
      "startup": false,
      "wait_interval": 0
     }
    },
    "colab_type": "code",
    "id": "iKmfoCDk0B4y"
   },
   "outputs": [],
   "source": [
    "# Sorting values according to Time for Time Based Slicing\n",
    "sorted_values = filtered_data.sort_values('Time',kind = 'quicksort')"
   ]
  },
  {
   "cell_type": "markdown",
   "metadata": {
    "colab_type": "text",
    "id": "iy8UjEIs0B4-"
   },
   "source": [
    "**3. Data Preprocessing**"
   ]
  },
  {
   "cell_type": "code",
   "execution_count": 0,
   "metadata": {
    "colab": {
     "autoexec": {
      "startup": false,
      "wait_interval": 0
     }
    },
    "colab_type": "code",
    "id": "8jR5L8o00B5A"
   },
   "outputs": [],
   "source": [
    "final = sorted_values.drop_duplicates(subset= { 'UserId', 'ProfileName', 'Time',  'Text'})"
   ]
  },
  {
   "cell_type": "code",
   "execution_count": 10,
   "metadata": {
    "colab": {
     "autoexec": {
      "startup": false,
      "wait_interval": 0
     },
     "base_uri": "https://localhost:8080/",
     "height": 51
    },
    "colab_type": "code",
    "executionInfo": {
     "elapsed": 1010,
     "status": "ok",
     "timestamp": 1532999544272,
     "user": {
      "displayName": "Chiranjib Sarma",
      "photoUrl": "//lh5.googleusercontent.com/-qgR21D2ilJw/AAAAAAAAAAI/AAAAAAAAL3Q/viq52ZH0_1I/s50-c-k-no/photo.jpg",
      "userId": "101813071526859824880"
     },
     "user_tz": -330
    },
    "id": "W7IIIVQU0B5J",
    "outputId": "2386db2b-b893-4414-f0e3-afa35b1f2973"
   },
   "outputs": [
    {
     "name": "stdout",
     "output_type": "stream",
     "text": [
      "Rows dropped :  1616410\n",
      "Percentage Data remaining after dropping duplicates : 69.25890143662969\n"
     ]
    }
   ],
   "source": [
    "print('Rows dropped : ',filtered_data.size - final.size)\n",
    "print('Percentage Data remaining after dropping duplicates :',(((final.size * 1.0)/(filtered_data.size * 1.0) * 100.0)))"
   ]
  },
  {
   "cell_type": "code",
   "execution_count": 0,
   "metadata": {
    "colab": {
     "autoexec": {
      "startup": false,
      "wait_interval": 0
     }
    },
    "colab_type": "code",
    "id": "hmLsrMfY0B5S"
   },
   "outputs": [],
   "source": [
    "# Dropping rows where HelpfulnessNumerator < HelpfulnessDenominator\n",
    "final = final[final.HelpfulnessDenominator >= final.HelpfulnessNumerator]"
   ]
  },
  {
   "cell_type": "code",
   "execution_count": 12,
   "metadata": {
    "colab": {
     "autoexec": {
      "startup": false,
      "wait_interval": 0
     },
     "base_uri": "https://localhost:8080/",
     "height": 34
    },
    "colab_type": "code",
    "executionInfo": {
     "elapsed": 959,
     "status": "ok",
     "timestamp": 1532999546541,
     "user": {
      "displayName": "Chiranjib Sarma",
      "photoUrl": "//lh5.googleusercontent.com/-qgR21D2ilJw/AAAAAAAAAAI/AAAAAAAAL3Q/viq52ZH0_1I/s50-c-k-no/photo.jpg",
      "userId": "101813071526859824880"
     },
     "user_tz": -330
    },
    "id": "-dxCKgdg0B5Z",
    "outputId": "11c39ec3-fd20-4eb6-c920-21eb533346b8"
   },
   "outputs": [
    {
     "name": "stdout",
     "output_type": "stream",
     "text": [
      "Number of Rows remaining in the Dataset:  3641710\n"
     ]
    }
   ],
   "source": [
    "print('Number of Rows remaining in the Dataset: ',final.size)"
   ]
  },
  {
   "cell_type": "code",
   "execution_count": 0,
   "metadata": {
    "colab": {
     "autoexec": {
      "startup": false,
      "wait_interval": 0
     }
    },
    "colab_type": "code",
    "id": "4UxODKLY0B5n"
   },
   "outputs": [],
   "source": [
    "# Data Sampling\n",
    "final = final.iloc[:50000,:]\n",
    "#print(final.shape)\n"
   ]
  },
  {
   "cell_type": "code",
   "execution_count": 14,
   "metadata": {
    "colab": {
     "autoexec": {
      "startup": false,
      "wait_interval": 0
     },
     "base_uri": "https://localhost:8080/",
     "height": 429
    },
    "colab_type": "code",
    "executionInfo": {
     "elapsed": 1228,
     "status": "ok",
     "timestamp": 1532999549182,
     "user": {
      "displayName": "Chiranjib Sarma",
      "photoUrl": "//lh5.googleusercontent.com/-qgR21D2ilJw/AAAAAAAAAAI/AAAAAAAAL3Q/viq52ZH0_1I/s50-c-k-no/photo.jpg",
      "userId": "101813071526859824880"
     },
     "user_tz": -330
    },
    "id": "dkcCvOSnLTdV",
    "outputId": "be5c11db-5ad7-46dd-da79-e91da0eda18f"
   },
   "outputs": [
    {
     "data": {
      "image/png": "[encoded data removed]",
      "text/plain": [
       "<matplotlib.figure.Figure at 0x7f31a6b12860>"
      ]
     },
     "metadata": {
      "tags": []
     },
     "output_type": "display_data"
    },
    {
     "name": "stdout",
     "output_type": "stream",
     "text": [
      "Positive    44377\n",
      "Negative     5623\n",
      "Name: Score, dtype: int64\n"
     ]
    }
   ],
   "source": [
    "# Checking the number of positive and negative reviews\n",
    "\n",
    "Class_Count  = final['Score'].value_counts()\n",
    "#city_count = city_count[:10,]\n",
    "plt.figure()\n",
    "flatui = [\"#15ff00\", \"#ff0033\"]\n",
    "sns.set_palette(flatui)\n",
    "sns.barplot(Class_Count.index, Class_Count.values, alpha=0.8 )\n",
    "plt.title('Positive Class Count vs Negative Class Count')\n",
    "plt.ylabel('Count', fontsize=12)\n",
    "plt.xlabel('Class', fontsize=12)\n",
    "plt.show()\n",
    "\n",
    "print(final['Score'].value_counts())"
   ]
  },
  {
   "cell_type": "code",
   "execution_count": 15,
   "metadata": {
    "colab": {
     "autoexec": {
      "startup": false,
      "wait_interval": 0
     },
     "base_uri": "https://localhost:8080/",
     "height": 408
    },
    "colab_type": "code",
    "executionInfo": {
     "elapsed": 962,
     "status": "ok",
     "timestamp": 1532999550361,
     "user": {
      "displayName": "Chiranjib Sarma",
      "photoUrl": "//lh5.googleusercontent.com/-qgR21D2ilJw/AAAAAAAAAAI/AAAAAAAAL3Q/viq52ZH0_1I/s50-c-k-no/photo.jpg",
      "userId": "101813071526859824880"
     },
     "user_tz": -330
    },
    "id": "cXOrDyCMJPsL",
    "outputId": "9be58fa8-8090-433c-a12d-0304f0b294d7"
   },
   "outputs": [
    {
     "data": {
      "text/html": [
       "<div>\n",
       "<style scoped>\n",
       "    .dataframe tbody tr th:only-of-type {\n",
       "        vertical-align: middle;\n",
       "    }\n",
       "\n",
       "    .dataframe tbody tr th {\n",
       "        vertical-align: top;\n",
       "    }\n",
       "\n",
       "    .dataframe thead th {\n",
       "        text-align: right;\n",
       "    }\n",
       "</style>\n",
       "<table border=\"1\" class=\"dataframe\">\n",
       "  <thead>\n",
       "    <tr style=\"text-align: right;\">\n",
       "      <th></th>\n",
       "      <th>Id</th>\n",
       "      <th>ProductId</th>\n",
       "      <th>UserId</th>\n",
       "      <th>ProfileName</th>\n",
       "      <th>HelpfulnessNumerator</th>\n",
       "      <th>HelpfulnessDenominator</th>\n",
       "      <th>Score</th>\n",
       "      <th>Time</th>\n",
       "      <th>Summary</th>\n",
       "      <th>Text</th>\n",
       "    </tr>\n",
       "  </thead>\n",
       "  <tbody>\n",
       "    <tr>\n",
       "      <th>138706</th>\n",
       "      <td>150524</td>\n",
       "      <td>0006641040</td>\n",
       "      <td>ACITT7DI6IDDL</td>\n",
       "      <td>shari zychinski</td>\n",
       "      <td>0</td>\n",
       "      <td>0</td>\n",
       "      <td>Positive</td>\n",
       "      <td>939340800</td>\n",
       "      <td>EVERY book is educational</td>\n",
       "      <td>this witty little book makes my son laugh at l...</td>\n",
       "    </tr>\n",
       "    <tr>\n",
       "      <th>138683</th>\n",
       "      <td>150501</td>\n",
       "      <td>0006641040</td>\n",
       "      <td>AJ46FKXOVC7NR</td>\n",
       "      <td>Nicholas A Mesiano</td>\n",
       "      <td>2</td>\n",
       "      <td>2</td>\n",
       "      <td>Positive</td>\n",
       "      <td>940809600</td>\n",
       "      <td>This whole series is great way to spend time w...</td>\n",
       "      <td>I can remember seeing the show when it aired o...</td>\n",
       "    </tr>\n",
       "    <tr>\n",
       "      <th>417839</th>\n",
       "      <td>451856</td>\n",
       "      <td>B00004CXX9</td>\n",
       "      <td>AIUWLEQ1ADEG5</td>\n",
       "      <td>Elizabeth Medina</td>\n",
       "      <td>0</td>\n",
       "      <td>0</td>\n",
       "      <td>Positive</td>\n",
       "      <td>944092800</td>\n",
       "      <td>Entertainingl Funny!</td>\n",
       "      <td>Beetlejuice is a well written movie ..... ever...</td>\n",
       "    </tr>\n",
       "    <tr>\n",
       "      <th>417859</th>\n",
       "      <td>451878</td>\n",
       "      <td>B00004CXX9</td>\n",
       "      <td>A344SMIA5JECGM</td>\n",
       "      <td>Vincent P. Ross</td>\n",
       "      <td>1</td>\n",
       "      <td>2</td>\n",
       "      <td>Positive</td>\n",
       "      <td>944438400</td>\n",
       "      <td>A modern day fairy tale</td>\n",
       "      <td>A twist of rumplestiskin captured on film, sta...</td>\n",
       "    </tr>\n",
       "    <tr>\n",
       "      <th>417838</th>\n",
       "      <td>451855</td>\n",
       "      <td>B00004CXX9</td>\n",
       "      <td>AJH6LUC1UT1ON</td>\n",
       "      <td>The Phantom of the Opera</td>\n",
       "      <td>0</td>\n",
       "      <td>0</td>\n",
       "      <td>Positive</td>\n",
       "      <td>946857600</td>\n",
       "      <td>FANTASTIC!</td>\n",
       "      <td>Beetlejuice is an excellent and funny movie. K...</td>\n",
       "    </tr>\n",
       "  </tbody>\n",
       "</table>\n",
       "</div>"
      ],
      "text/plain": [
       "            Id   ProductId          UserId               ProfileName  \\\n",
       "138706  150524  0006641040   ACITT7DI6IDDL           shari zychinski   \n",
       "138683  150501  0006641040   AJ46FKXOVC7NR        Nicholas A Mesiano   \n",
       "417839  451856  B00004CXX9   AIUWLEQ1ADEG5          Elizabeth Medina   \n",
       "417859  451878  B00004CXX9  A344SMIA5JECGM           Vincent P. Ross   \n",
       "417838  451855  B00004CXX9   AJH6LUC1UT1ON  The Phantom of the Opera   \n",
       "\n",
       "        HelpfulnessNumerator  HelpfulnessDenominator     Score       Time  \\\n",
       "138706                     0                       0  Positive  939340800   \n",
       "138683                     2                       2  Positive  940809600   \n",
       "417839                     0                       0  Positive  944092800   \n",
       "417859                     1                       2  Positive  944438400   \n",
       "417838                     0                       0  Positive  946857600   \n",
       "\n",
       "                                                  Summary  \\\n",
       "138706                          EVERY book is educational   \n",
       "138683  This whole series is great way to spend time w...   \n",
       "417839                               Entertainingl Funny!   \n",
       "417859                            A modern day fairy tale   \n",
       "417838                                         FANTASTIC!   \n",
       "\n",
       "                                                     Text  \n",
       "138706  this witty little book makes my son laugh at l...  \n",
       "138683  I can remember seeing the show when it aired o...  \n",
       "417839  Beetlejuice is a well written movie ..... ever...  \n",
       "417859  A twist of rumplestiskin captured on film, sta...  \n",
       "417838  Beetlejuice is an excellent and funny movie. K...  "
      ]
     },
     "execution_count": 15,
     "metadata": {
      "tags": []
     },
     "output_type": "execute_result"
    }
   ],
   "source": [
    "final.head(5)"
   ]
  },
  {
   "cell_type": "code",
   "execution_count": 0,
   "metadata": {
    "colab": {
     "autoexec": {
      "startup": false,
      "wait_interval": 0
     }
    },
    "colab_type": "code",
    "id": "fhD996EI0B5s"
   },
   "outputs": [],
   "source": [
    "# Function to Remove HTML Tags\n",
    "def cleanhtml(sentence):\n",
    "    cleaner = re.compile('<.*?>')\n",
    "    cleantext = re.sub(cleaner,\"\",sentence)\n",
    "    return cleantext"
   ]
  },
  {
   "cell_type": "code",
   "execution_count": 0,
   "metadata": {
    "colab": {
     "autoexec": {
      "startup": false,
      "wait_interval": 0
     }
    },
    "colab_type": "code",
    "id": "fgvl88Ta0B51"
   },
   "outputs": [],
   "source": [
    "# Function to clean punctuations and special characters\n",
    "\n",
    "def cleanpunct(sentence):\n",
    "    cleaned = re.sub(r'[?|!|\\'|\"|#]',r'',sentence)\n",
    "    cleaned = re.sub(r'[.|,|)|(|\\|/]',r' ',cleaned)\n",
    "    return  cleaned\n"
   ]
  },
  {
   "cell_type": "code",
   "execution_count": 18,
   "metadata": {
    "colab": {
     "autoexec": {
      "startup": false,
      "wait_interval": 0
     },
     "base_uri": "https://localhost:8080/",
     "height": 34
    },
    "colab_type": "code",
    "executionInfo": {
     "elapsed": 1350,
     "status": "ok",
     "timestamp": 1532999555649,
     "user": {
      "displayName": "Chiranjib Sarma",
      "photoUrl": "//lh5.googleusercontent.com/-qgR21D2ilJw/AAAAAAAAAAI/AAAAAAAAL3Q/viq52ZH0_1I/s50-c-k-no/photo.jpg",
      "userId": "101813071526859824880"
     },
     "user_tz": -330
    },
    "id": "bXIfgAM80B57",
    "outputId": "e587d698-cf8b-48af-a0de-f4550cc6f039"
   },
   "outputs": [
    {
     "data": {
      "text/plain": [
       "\"print(stop)\\nprint('*' * 100)\\nprint(sno.stem('tasty'))\""
      ]
     },
     "execution_count": 18,
     "metadata": {
      "tags": []
     },
     "output_type": "execute_result"
    }
   ],
   "source": [
    "\n",
    "# Initialize Stop words and PorterStemmer and Lemmetizer\n",
    "stop = set(stopwords.words('english'))\n",
    "sno = SnowballStemmer('english')\n",
    "\n",
    "\n",
    "'''print(stop)\n",
    "print('*' * 100)\n",
    "print(sno.stem('tasty'))'''"
   ]
  },
  {
   "cell_type": "code",
   "execution_count": 0,
   "metadata": {
    "colab": {
     "autoexec": {
      "startup": false,
      "wait_interval": 0
     }
    },
    "colab_type": "code",
    "id": "c5WzyD7I0B6G"
   },
   "outputs": [],
   "source": [
    "# Cleaning HTML and non-Alphanumeric characters from the review text\n",
    "i=0\n",
    "str1=' '\n",
    "final_string=[]\n",
    "all_positive_words=[] # store words from +ve reviews here\n",
    "all_negative_words=[] # store words from -ve reviews here.\n",
    "s=''\n",
    "for sent in final['Text'].values:\n",
    "    filtered_sentence=[]\n",
    "    #print(sent);\n",
    "    sent=cleanhtml(sent) # remove HTMl tags\n",
    "    for w in sent.split():\n",
    "        for cleaned_words in cleanpunct(w).split():\n",
    "            if((cleaned_words.isalpha()) & (len(cleaned_words)>2)):    \n",
    "                if(cleaned_words.lower() not in stop):\n",
    "                    s=(sno.stem(cleaned_words.lower())).encode('utf8')\n",
    "                    filtered_sentence.append(s)\n",
    "                    if (final['Score'].values)[i] == 'Positive': \n",
    "                        all_positive_words.append(s) #list of all words used to describe positive reviews\n",
    "                    if(final['Score'].values)[i] == 'Negative':\n",
    "                        all_negative_words.append(s) #list of all words used to describe negative reviews reviews\n",
    "                else:\n",
    "                    continue\n",
    "            else:\n",
    "                continue \n",
    "    #print(filtered_sentence)\n",
    "    str1 = b\" \".join(filtered_sentence) #final string of cleaned words\n",
    "    #print(\"***********************************************************************\")\n",
    "    \n",
    "    final_string.append(str1)\n",
    "    i+=1"
   ]
  },
  {
   "cell_type": "code",
   "execution_count": 20,
   "metadata": {
    "colab": {
     "autoexec": {
      "startup": false,
      "wait_interval": 0
     },
     "base_uri": "https://localhost:8080/",
     "height": 564
    },
    "colab_type": "code",
    "executionInfo": {
     "elapsed": 1239,
     "status": "ok",
     "timestamp": 1532999624283,
     "user": {
      "displayName": "Chiranjib Sarma",
      "photoUrl": "//lh5.googleusercontent.com/-qgR21D2ilJw/AAAAAAAAAAI/AAAAAAAAL3Q/viq52ZH0_1I/s50-c-k-no/photo.jpg",
      "userId": "101813071526859824880"
     },
     "user_tz": -330
    },
    "id": "viaYBLDL0B6L",
    "outputId": "29752a65-d010-437e-90ad-4ede9c30b3f7"
   },
   "outputs": [
    {
     "data": {
      "text/html": [
       "<div>\n",
       "<style scoped>\n",
       "    .dataframe tbody tr th:only-of-type {\n",
       "        vertical-align: middle;\n",
       "    }\n",
       "\n",
       "    .dataframe tbody tr th {\n",
       "        vertical-align: top;\n",
       "    }\n",
       "\n",
       "    .dataframe thead th {\n",
       "        text-align: right;\n",
       "    }\n",
       "</style>\n",
       "<table border=\"1\" class=\"dataframe\">\n",
       "  <thead>\n",
       "    <tr style=\"text-align: right;\">\n",
       "      <th></th>\n",
       "      <th>Id</th>\n",
       "      <th>ProductId</th>\n",
       "      <th>UserId</th>\n",
       "      <th>ProfileName</th>\n",
       "      <th>HelpfulnessNumerator</th>\n",
       "      <th>HelpfulnessDenominator</th>\n",
       "      <th>Score</th>\n",
       "      <th>Time</th>\n",
       "      <th>Summary</th>\n",
       "      <th>Text</th>\n",
       "      <th>CleanedText</th>\n",
       "    </tr>\n",
       "  </thead>\n",
       "  <tbody>\n",
       "    <tr>\n",
       "      <th>138706</th>\n",
       "      <td>150524</td>\n",
       "      <td>0006641040</td>\n",
       "      <td>ACITT7DI6IDDL</td>\n",
       "      <td>shari zychinski</td>\n",
       "      <td>0</td>\n",
       "      <td>0</td>\n",
       "      <td>Positive</td>\n",
       "      <td>939340800</td>\n",
       "      <td>EVERY book is educational</td>\n",
       "      <td>this witty little book makes my son laugh at l...</td>\n",
       "      <td>b'witti littl book make son laugh loud recit c...</td>\n",
       "    </tr>\n",
       "    <tr>\n",
       "      <th>138683</th>\n",
       "      <td>150501</td>\n",
       "      <td>0006641040</td>\n",
       "      <td>AJ46FKXOVC7NR</td>\n",
       "      <td>Nicholas A Mesiano</td>\n",
       "      <td>2</td>\n",
       "      <td>2</td>\n",
       "      <td>Positive</td>\n",
       "      <td>940809600</td>\n",
       "      <td>This whole series is great way to spend time w...</td>\n",
       "      <td>I can remember seeing the show when it aired o...</td>\n",
       "      <td>b'rememb see show air televis year ago child s...</td>\n",
       "    </tr>\n",
       "    <tr>\n",
       "      <th>417839</th>\n",
       "      <td>451856</td>\n",
       "      <td>B00004CXX9</td>\n",
       "      <td>AIUWLEQ1ADEG5</td>\n",
       "      <td>Elizabeth Medina</td>\n",
       "      <td>0</td>\n",
       "      <td>0</td>\n",
       "      <td>Positive</td>\n",
       "      <td>944092800</td>\n",
       "      <td>Entertainingl Funny!</td>\n",
       "      <td>Beetlejuice is a well written movie ..... ever...</td>\n",
       "      <td>b'beetlejuic well written movi everyth excel a...</td>\n",
       "    </tr>\n",
       "    <tr>\n",
       "      <th>417859</th>\n",
       "      <td>451878</td>\n",
       "      <td>B00004CXX9</td>\n",
       "      <td>A344SMIA5JECGM</td>\n",
       "      <td>Vincent P. Ross</td>\n",
       "      <td>1</td>\n",
       "      <td>2</td>\n",
       "      <td>Positive</td>\n",
       "      <td>944438400</td>\n",
       "      <td>A modern day fairy tale</td>\n",
       "      <td>A twist of rumplestiskin captured on film, sta...</td>\n",
       "      <td>b'twist rumplestiskin captur film star michael...</td>\n",
       "    </tr>\n",
       "    <tr>\n",
       "      <th>417838</th>\n",
       "      <td>451855</td>\n",
       "      <td>B00004CXX9</td>\n",
       "      <td>AJH6LUC1UT1ON</td>\n",
       "      <td>The Phantom of the Opera</td>\n",
       "      <td>0</td>\n",
       "      <td>0</td>\n",
       "      <td>Positive</td>\n",
       "      <td>946857600</td>\n",
       "      <td>FANTASTIC!</td>\n",
       "      <td>Beetlejuice is an excellent and funny movie. K...</td>\n",
       "      <td>b'beetlejuic excel funni movi keaton hilari wa...</td>\n",
       "    </tr>\n",
       "  </tbody>\n",
       "</table>\n",
       "</div>"
      ],
      "text/plain": [
       "            Id   ProductId          UserId               ProfileName  \\\n",
       "138706  150524  0006641040   ACITT7DI6IDDL           shari zychinski   \n",
       "138683  150501  0006641040   AJ46FKXOVC7NR        Nicholas A Mesiano   \n",
       "417839  451856  B00004CXX9   AIUWLEQ1ADEG5          Elizabeth Medina   \n",
       "417859  451878  B00004CXX9  A344SMIA5JECGM           Vincent P. Ross   \n",
       "417838  451855  B00004CXX9   AJH6LUC1UT1ON  The Phantom of the Opera   \n",
       "\n",
       "        HelpfulnessNumerator  HelpfulnessDenominator     Score       Time  \\\n",
       "138706                     0                       0  Positive  939340800   \n",
       "138683                     2                       2  Positive  940809600   \n",
       "417839                     0                       0  Positive  944092800   \n",
       "417859                     1                       2  Positive  944438400   \n",
       "417838                     0                       0  Positive  946857600   \n",
       "\n",
       "                                                  Summary  \\\n",
       "138706                          EVERY book is educational   \n",
       "138683  This whole series is great way to spend time w...   \n",
       "417839                               Entertainingl Funny!   \n",
       "417859                            A modern day fairy tale   \n",
       "417838                                         FANTASTIC!   \n",
       "\n",
       "                                                     Text  \\\n",
       "138706  this witty little book makes my son laugh at l...   \n",
       "138683  I can remember seeing the show when it aired o...   \n",
       "417839  Beetlejuice is a well written movie ..... ever...   \n",
       "417859  A twist of rumplestiskin captured on film, sta...   \n",
       "417838  Beetlejuice is an excellent and funny movie. K...   \n",
       "\n",
       "                                              CleanedText  \n",
       "138706  b'witti littl book make son laugh loud recit c...  \n",
       "138683  b'rememb see show air televis year ago child s...  \n",
       "417839  b'beetlejuic well written movi everyth excel a...  \n",
       "417859  b'twist rumplestiskin captur film star michael...  \n",
       "417838  b'beetlejuic excel funni movi keaton hilari wa...  "
      ]
     },
     "execution_count": 20,
     "metadata": {
      "tags": []
     },
     "output_type": "execute_result"
    }
   ],
   "source": [
    "final['CleanedText']=final_string\n",
    "final.head(5)"
   ]
  },
  {
   "cell_type": "markdown",
   "metadata": {
    "colab_type": "text",
    "id": "IM5_xHB20B6P"
   },
   "source": [
    "**4.  KNN with KD Tree and Brute Force Algorithm**"
   ]
  },
  {
   "cell_type": "code",
   "execution_count": 0,
   "metadata": {
    "colab": {
     "autoexec": {
      "startup": false,
      "wait_interval": 0
     }
    },
    "colab_type": "code",
    "id": "tQSM7ly7Nv8v"
   },
   "outputs": [],
   "source": [
    "# Container to store the results\n",
    "\n",
    "final_results = {}"
   ]
  },
  {
   "cell_type": "code",
   "execution_count": 0,
   "metadata": {
    "colab": {
     "autoexec": {
      "startup": false,
      "wait_interval": 0
     }
    },
    "colab_type": "code",
    "id": "OacjfPOW0B6Q"
   },
   "outputs": [],
   "source": [
    "\n",
    "# Function for Decision Tree\n",
    "def runDT(X_Train,X_Test,y_train,y_test,VectorizationType):\n",
    "  depth = []\n",
    "  score = []\n",
    "  \n",
    "  \n",
    "  \n",
    "  \n",
    "  for i in range(2,20):\n",
    "    clf = tree.DecisionTreeClassifier(max_depth=i)\n",
    "    # Perform 7-fold cross validation \n",
    "    scores = cross_val_score(estimator=clf, X=X_Train, y=y_train, cv=7, n_jobs=4)\n",
    "    depth.append(i)\n",
    "    score.append(scores.mean()*100)\n",
    "    print('For depth: ',i,'CV Score is:',scores.mean())\n",
    "  #print(depth)\n",
    "    \n",
    "    \n",
    "  plt.plot(depth,score,'.-')\n",
    "  plt.title('Tree Depth vs CV Scores')\n",
    "  plt.ylabel('CV Scores')\n",
    "  plt.xlabel('Tree Depth')\n",
    "  plt.show()\n",
    "  \n",
    "  #print(depth)\n",
    "  #print(score)\n",
    "  #print(depth[score.index(max(score))])\n",
    "\n",
    "  \n",
    "  \n",
    "  max_depth_optimum = depth[score.index(max(score))]\n",
    "  #print(max_depth_optimum)\n",
    "  gini = tree.DecisionTreeClassifier(criterion='gini',max_depth= max_depth_optimum,random_state= 0)\n",
    "  gini.fit(X_Train,y_train)\n",
    "  pred = gini.predict(X_Test)\n",
    "  \n",
    "  \n",
    "  print('\\nDetails for ',VectorizationType,'Vectorization:')\n",
    "  print('*'*100)\n",
    "  print('Accuracy for Gini Criteria algorithm with Tree Depth =',max_depth_optimum,' is ' ,np.round((accuracy_score(y_test, pred)*100),decimals = 2))\n",
    "  print('F1 score for Gini Criteria algorithm with Tree Depth =',max_depth_optimum,' is ' , np.round((f1_score(y_test, pred,average= 'macro')*100),decimals = 2))\n",
    "  print('Recall for Gini Criteria algorithm with Tree Depth =',max_depth_optimum,' is '  , np.round((recall_score(y_test, pred,average= 'macro')*100),decimals = 2))\n",
    "  print('Precision for Gini Criteria algorithm with Tree Depth =',max_depth_optimum,' is '  , np.round((precision_score(y_test, pred,average= 'macro')*100),decimals = 2))\n",
    "  print ('\\n Classification report for Gini Criteria algorithm with Tree Depth =',max_depth_optimum,' is \\n'  , classification_report(y_test,pred))\n",
    "    \n",
    "\n",
    "    \n",
    "  plt.figure()\n",
    "  confusion_matrix_Plot = confusion_matrix(y_test,pred)\n",
    "  heatmap = sns.heatmap(confusion_matrix_Plot, annot=True, fmt=\"d\")\n",
    "  heatmap.yaxis.set_ticklabels(heatmap.yaxis.get_ticklabels(), rotation=0, ha='right')\n",
    "  heatmap.xaxis.set_ticklabels(heatmap.xaxis.get_ticklabels(), rotation=45, ha='right')\n",
    "  plt.ylabel('True label')\n",
    "  plt.xlabel('Predicted label')\n",
    "  \n",
    "  \n",
    "  \n",
    "  y_pred = gini.predict(X_Test)\n",
    "  print('The Accuracy of Decision Tree Algorithm with tree depth = ',max_depth_optimum,'and ',VectorizationType,\n",
    "        ' vectorization is: ',accuracy_score(y_test,y_pred)*100)\n",
    "  final_results[VectorizationType] =accuracy_score(y_test,y_pred)*100\n",
    "  \n",
    " "
   ]
  },
  {
   "cell_type": "markdown",
   "metadata": {
    "colab_type": "text",
    "id": "neqvlOBd0B6g"
   },
   "source": [
    "**4.3 Using Average Word2Vec**"
   ]
  },
  {
   "cell_type": "code",
   "execution_count": 0,
   "metadata": {
    "colab": {
     "autoexec": {
      "startup": false,
      "wait_interval": 0
     }
    },
    "colab_type": "code",
    "id": "B5OmsW680B6h"
   },
   "outputs": [],
   "source": [
    "#Splitting into TRaining and Testing Set, and using only Training set for Word2Vec Training\n",
    "X_Train,X_Test,y_train,y_test = train_test_split(final['Text'],final['Score'])\n",
    "\n",
    "\n",
    "# Train your own Word2Vec model using your own text corpus\n",
    "\n",
    "i=0\n",
    "list_of_sent=[]\n",
    "for sent in X_Train.values:\n",
    "    filtered_sentence=[]\n",
    "    sent=cleanhtml(sent)\n",
    "    for w in sent.split():\n",
    "        for cleaned_words in cleanpunct(w).split():\n",
    "            if(cleaned_words.isalpha()):    \n",
    "                filtered_sentence.append(cleaned_words.lower())\n",
    "            else:\n",
    "                continue \n",
    "    list_of_sent.append(filtered_sentence)\n",
    "    "
   ]
  },
  {
   "cell_type": "code",
   "execution_count": 25,
   "metadata": {
    "colab": {
     "autoexec": {
      "startup": false,
      "wait_interval": 0
     },
     "base_uri": "https://localhost:8080/",
     "height": 34
    },
    "colab_type": "code",
    "executionInfo": {
     "elapsed": 21223,
     "status": "ok",
     "timestamp": 1532999659771,
     "user": {
      "displayName": "Chiranjib Sarma",
      "photoUrl": "//lh5.googleusercontent.com/-qgR21D2ilJw/AAAAAAAAAAI/AAAAAAAAL3Q/viq52ZH0_1I/s50-c-k-no/photo.jpg",
      "userId": "101813071526859824880"
     },
     "user_tz": -330
    },
    "id": "L_1YMUW70B6v",
    "outputId": "ff5dc558-4f89-49f9-8802-3c635bba99ba"
   },
   "outputs": [
    {
     "name": "stdout",
     "output_type": "stream",
     "text": [
      "11978\n"
     ]
    }
   ],
   "source": [
    "w2v_model=gensim.models.Word2Vec(list_of_sent,min_count=5,size=50, workers=4)    \n",
    "words = list(w2v_model.wv.vocab)\n",
    "print(len(words))\n"
   ]
  },
  {
   "cell_type": "code",
   "execution_count": 26,
   "metadata": {
    "colab": {
     "autoexec": {
      "startup": false,
      "wait_interval": 0
     },
     "base_uri": "https://localhost:8080/",
     "height": 1350
    },
    "colab_type": "code",
    "executionInfo": {
     "elapsed": 305623,
     "status": "ok",
     "timestamp": 1532999965559,
     "user": {
      "displayName": "Chiranjib Sarma",
      "photoUrl": "//lh5.googleusercontent.com/-qgR21D2ilJw/AAAAAAAAAAI/AAAAAAAAL3Q/viq52ZH0_1I/s50-c-k-no/photo.jpg",
      "userId": "101813071526859824880"
     },
     "user_tz": -330
    },
    "id": "e3X4AkL30B61",
    "outputId": "70726977-28eb-4a56-8459-4c9cc50ba2b5"
   },
   "outputs": [
    {
     "name": "stdout",
     "output_type": "stream",
     "text": [
      "37500\n",
      "12500\n",
      "For depth:  2 CV Score is: 0.8868000023611431\n",
      "For depth:  3 CV Score is: 0.8865600158694292\n",
      "For depth:  4 CV Score is: 0.8862666697365505\n",
      "For depth:  5 CV Score is: 0.8854400009333084\n",
      "For depth:  6 CV Score is: 0.8843999682221215\n",
      "For depth:  7 CV Score is: 0.8832266284846357\n",
      "For depth:  8 CV Score is: 0.8796532794936992\n",
      "For depth:  9 CV Score is: 0.8765065737077115\n",
      "For depth:  10 CV Score is: 0.8736532688028581\n",
      "For depth:  11 CV Score is: 0.8709065886151638\n",
      "For depth:  12 CV Score is: 0.8646932538332912\n",
      "For depth:  13 CV Score is: 0.8609065907055519\n",
      "For depth:  14 CV Score is: 0.855813250951343\n",
      "For depth:  15 CV Score is: 0.849653335536005\n",
      "For depth:  16 CV Score is: 0.843279971601781\n",
      "For depth:  17 CV Score is: 0.8384265486596876\n",
      "For depth:  18 CV Score is: 0.8333065315734538\n",
      "For depth:  19 CV Score is: 0.8265065592740803\n"
     ]
    },
    {
     "data": {
      "image/png": "[encoded data removed]",
      "text/plain": [
       "<matplotlib.figure.Figure at 0x7f315e8e8cf8>"
      ]
     },
     "metadata": {
      "tags": []
     },
     "output_type": "display_data"
    },
    {
     "name": "stdout",
     "output_type": "stream",
     "text": [
      "\n",
      "Details for  Average Word2Vec Vectorization:\n",
      "****************************************************************************************************\n",
      "Accuracy for Gini Criteria algorithm with Tree Depth = 2  is  88.96\n",
      "F1 score for Gini Criteria algorithm with Tree Depth = 2  is  47.08\n",
      "Recall for Gini Criteria algorithm with Tree Depth = 2  is  50.0\n",
      "Precision for Gini Criteria algorithm with Tree Depth = 2  is  44.48\n",
      "\n",
      " Classification report for Gini Criteria algorithm with Tree Depth = 2  is \n",
      "              precision    recall  f1-score   support\n",
      "\n",
      "   Negative       0.00      0.00      0.00      1380\n",
      "   Positive       0.89      1.00      0.94     11120\n",
      "\n",
      "avg / total       0.79      0.89      0.84     12500\n",
      "\n",
      "The Accuracy of Decision Tree Algorithm with tree depth =  2 and  Average Word2Vec  vectorization is:  88.96\n"
     ]
    },
    {
     "data": {
      "image/png": "[encoded data removed]",
      "text/plain": [
       "<matplotlib.figure.Figure at 0x7f315e8da908>"
      ]
     },
     "metadata": {
      "tags": []
     },
     "output_type": "display_data"
    }
   ],
   "source": [
    "# average Word2Vec\n",
    "# compute average word2vec for each review.\n",
    "sent_vectors = []; # the avg-w2v for each sentence/review is stored in this list\n",
    "for sent in X_Train: # for each review/sentence\n",
    "    sent_vec = np.zeros(50) # as word vectors are of zero length\n",
    "    cnt_words =0; # num of words with a valid vector in the sentence/review\n",
    "    for word in sent: # for each word in a review/sentence\n",
    "        try:\n",
    "            vec = w2v_model.wv[word]\n",
    "            sent_vec += vec\n",
    "            cnt_words += 1\n",
    "        except:\n",
    "            pass\n",
    "    sent_vec /= cnt_words\n",
    "    sent_vectors.append(sent_vec)\n",
    "\n",
    "X_train_Vectorised = sent_vectors\n",
    "\n",
    "\n",
    "\n",
    "sent_vectors = []; # the avg-w2v for each sentence/review is stored in this list\n",
    "for sent in X_Test: # for each review/sentence\n",
    "    sent_vec = np.zeros(50) # as word vectors are of zero length\n",
    "    cnt_words =0; # num of words with a valid vector in the sentence/review\n",
    "    for word in sent: # for each word in a review/sentence\n",
    "        try:\n",
    "            vec = w2v_model.wv[word]\n",
    "            sent_vec += vec\n",
    "            cnt_words += 1\n",
    "        except:\n",
    "            pass\n",
    "    sent_vec /= cnt_words\n",
    "    sent_vectors.append(sent_vec)\n",
    "\n",
    "X_test_Vectorised = sent_vectors\n",
    "print(len(X_train_Vectorised))\n",
    "print(len(X_test_Vectorised))\n",
    "\n",
    "#X_1, X_test, y_1, y_test = cross_validation.train_test_split(sent_vectors, final['Score'], random_state = 0,test_size = 0.3)\n",
    "#print('X_train first entry: \\n\\n', X_1[0])\n",
    "#print('\\n\\nX_train shape: ', X_1.shape)\n",
    "\n",
    "# split the train data set into cross validation train and cross validation test\n",
    "#X_tr, X_cv, y_tr, y_cv = cross_validation.train_test_split(X_1, y_1, test_size=0.3)\n",
    "\n",
    "np.where(np.isnan(X_test_Vectorised))\n",
    "X_train_Vectorised = np.nan_to_num(X_train_Vectorised)\n",
    "X_test_Vectorised = np.nan_to_num(X_test_Vectorised)\n",
    "#np.nan_to_num(X_test_Vectorised)\n",
    "\n",
    "runDT(X_train_Vectorised,X_test_Vectorised,y_train,y_test,'Average Word2Vec')"
   ]
  },
  {
   "cell_type": "markdown",
   "metadata": {
    "colab_type": "text",
    "id": "RZtxciCc0B67"
   },
   "source": [
    "**4.4 Using TF-IDF Weighted Word2Vec**"
   ]
  },
  {
   "cell_type": "code",
   "execution_count": 27,
   "metadata": {
    "colab": {
     "autoexec": {
      "startup": false,
      "wait_interval": 0
     },
     "base_uri": "https://localhost:8080/",
     "height": 1316
    },
    "colab_type": "code",
    "executionInfo": {
     "elapsed": 3235652,
     "status": "ok",
     "timestamp": 1533003201256,
     "user": {
      "displayName": "Chiranjib Sarma",
      "photoUrl": "//lh5.googleusercontent.com/-qgR21D2ilJw/AAAAAAAAAAI/AAAAAAAAL3Q/viq52ZH0_1I/s50-c-k-no/photo.jpg",
      "userId": "101813071526859824880"
     },
     "user_tz": -330
    },
    "id": "Z19qDk4s0B68",
    "outputId": "ca9e0faf-bd45-49c9-8da7-766996aafea6"
   },
   "outputs": [
    {
     "name": "stdout",
     "output_type": "stream",
     "text": [
      "For depth:  2 CV Score is: 0.8868533371167365\n",
      "For depth:  3 CV Score is: 0.8868533371167365\n",
      "For depth:  4 CV Score is: 0.8868533371167365\n",
      "For depth:  5 CV Score is: 0.8868533371167365\n",
      "For depth:  6 CV Score is: 0.8868533371167365\n",
      "For depth:  7 CV Score is: 0.8868533371167365\n",
      "For depth:  8 CV Score is: 0.8868533371167365\n",
      "For depth:  9 CV Score is: 0.8868533371167365\n",
      "For depth:  10 CV Score is: 0.8868533371167365\n",
      "For depth:  11 CV Score is: 0.8868533371167365\n",
      "For depth:  12 CV Score is: 0.8868533371167365\n",
      "For depth:  13 CV Score is: 0.8868533371167365\n",
      "For depth:  14 CV Score is: 0.8868533371167365\n",
      "For depth:  15 CV Score is: 0.8868533371167365\n",
      "For depth:  16 CV Score is: 0.8868533371167365\n",
      "For depth:  17 CV Score is: 0.8868533371167365\n",
      "For depth:  18 CV Score is: 0.8868533371167365\n",
      "For depth:  19 CV Score is: 0.8868533371167365\n"
     ]
    },
    {
     "data": {
      "image/png": "[encoded data removed]",
      "text/plain": [
       "<matplotlib.figure.Figure at 0x7f3181405a20>"
      ]
     },
     "metadata": {
      "tags": []
     },
     "output_type": "display_data"
    },
    {
     "name": "stdout",
     "output_type": "stream",
     "text": [
      "\n",
      "Details for  TF-IDF Weighted Word2Vec Vectorization:\n",
      "****************************************************************************************************\n",
      "Accuracy for Gini Criteria algorithm with Tree Depth = 2  is  88.96\n",
      "F1 score for Gini Criteria algorithm with Tree Depth = 2  is  47.08\n",
      "Recall for Gini Criteria algorithm with Tree Depth = 2  is  50.0\n",
      "Precision for Gini Criteria algorithm with Tree Depth = 2  is  44.48\n",
      "\n",
      " Classification report for Gini Criteria algorithm with Tree Depth = 2  is \n",
      "              precision    recall  f1-score   support\n",
      "\n",
      "   Negative       0.00      0.00      0.00      1380\n",
      "   Positive       0.89      1.00      0.94     11120\n",
      "\n",
      "avg / total       0.79      0.89      0.84     12500\n",
      "\n",
      "The Accuracy of Decision Tree Algorithm with tree depth =  2 and  TF-IDF Weighted Word2Vec  vectorization is:  88.96\n"
     ]
    },
    {
     "data": {
      "image/png": "[encoded data removed]",
      "text/plain": [
       "<matplotlib.figure.Figure at 0x7f315e057cc0>"
      ]
     },
     "metadata": {
      "tags": []
     },
     "output_type": "display_data"
    }
   ],
   "source": [
    "# TF-IDF weighted Word2Vec\n",
    "vect_tfidf = TfidfVectorizer(min_df = 5).fit(X_Train)\n",
    "tfidf_feat = vect_tfidf.get_feature_names() # tfidf words/col-names\n",
    "#print(tfidf_feat)\n",
    "# final_tf_idf is the sparse matrix with row= sentence, col=word and cell_val = tfidf\n",
    "\n",
    "tfidf_sent_vectors = []; # the tfidf-w2v for each sentence/review is stored in this list\n",
    "row=0;\n",
    "for sent in X_Train: # for each review/sentence\n",
    "    sent_vec = np.zeros(50) # as word vectors are of zero length\n",
    "    weight_sum =0; # num of words with a valid vector in the sentence/review\n",
    "    for word in sent: # for each word in a review/sentence\n",
    "        try:\n",
    "            vec = w2v_model.wv[word]\n",
    "            # obtain the tf_idfidf of a word in a sentence/review\n",
    "            tfidf = vect_tfidf[row, tfidf_feat.index(word)]\n",
    "            sent_vec += (vec * tf_idf)\n",
    "            weight_sum += tf_idf\n",
    "        except:\n",
    "            pass\n",
    "    \n",
    "    #print(type(sent_vec))\n",
    "    try:\n",
    "        sent_vec /= weight_sum\n",
    "    except:\n",
    "        pass\n",
    "    \n",
    "    tfidf_sent_vectors.append(sent_vec)\n",
    "    row += 1\n",
    "X_train_Vectorised = tfidf_sent_vectors\n",
    "\n",
    "\n",
    "tfidf_sent_vectors = []; # the tfidf-w2v for each sentence/review is stored in this list\n",
    "row=0;\n",
    "for sent in X_Test: # for each review/sentence\n",
    "    sent_vec = np.zeros(50) # as word vectors are of zero length\n",
    "    weight_sum =0; # num of words with a valid vector in the sentence/review\n",
    "    for word in sent: # for each word in a review/sentence\n",
    "        try:\n",
    "            vec = w2v_model.wv[word]\n",
    "            # obtain the tf_idfidf of a word in a sentence/review\n",
    "            tfidf = vect_tfidf[row, tfidf_feat.index(word)]\n",
    "            sent_vec += (vec * tf_idf)\n",
    "            weight_sum += tf_idf\n",
    "        except:\n",
    "            pass\n",
    "    \n",
    "    #print(type(sent_vec))\n",
    "    try:\n",
    "        sent_vec /= weight_sum\n",
    "    except:\n",
    "        pass\n",
    "    \n",
    "    tfidf_sent_vectors.append(sent_vec)\n",
    "    row += 1\n",
    "\n",
    "X_test_Vectorised = tfidf_sent_vectors\n",
    "    \n",
    "X_train_Vectorised = np.nan_to_num(X_train_Vectorised)\n",
    "X_test_Vectorised = np.nan_to_num(X_test_Vectorised)\n",
    "    \n",
    "runDT(X_train_Vectorised,X_test_Vectorised,y_train,y_test,'TF-IDF Weighted Word2Vec')\n",
    "    "
   ]
  },
  {
   "cell_type": "markdown",
   "metadata": {
    "colab_type": "text",
    "id": "Cf8hY1tCJLv9"
   },
   "source": [
    "  **Conclusion**"
   ]
  },
  {
   "cell_type": "code",
   "execution_count": 28,
   "metadata": {
    "colab": {
     "autoexec": {
      "startup": false,
      "wait_interval": 0
     },
     "base_uri": "https://localhost:8080/",
     "height": 51
    },
    "colab_type": "code",
    "executionInfo": {
     "elapsed": 1037,
     "status": "ok",
     "timestamp": 1533003202384,
     "user": {
      "displayName": "Chiranjib Sarma",
      "photoUrl": "//lh5.googleusercontent.com/-qgR21D2ilJw/AAAAAAAAAAI/AAAAAAAAL3Q/viq52ZH0_1I/s50-c-k-no/photo.jpg",
      "userId": "101813071526859824880"
     },
     "user_tz": -330
    },
    "id": "_9LJNqdW0B7F",
    "outputId": "7d7e2aae-0dfc-4eac-92a3-0012aa4c6d07"
   },
   "outputs": [
    {
     "name": "stdout",
     "output_type": "stream",
     "text": [
      "The Accuracy using Average Word2Vec vectorization is: 88.96\n",
      "The Accuracy using TF-IDF Weighted Word2Vec vectorization is: 88.96\n"
     ]
    }
   ],
   "source": [
    "print('The Accuracy using Average Word2Vec vectorization is:',final_results['Average Word2Vec'])\n",
    "print('The Accuracy using TF-IDF Weighted Word2Vec vectorization is:',final_results['TF-IDF Weighted Word2Vec'])"
   ]
  },
  {
   "cell_type": "markdown",
   "metadata": {
    "colab_type": "text",
    "id": "Y_22H4WiIABO"
   },
   "source": [
    "**It is seen that the accuracy for both  Average Word2Vec and TF-IDF Weighted Word2Vec vectorization while using Decision Trees with Gini Criterion is 88.96%**"
   ]
  }
 ],
 "metadata": {
  "accelerator": "GPU",
  "colab": {
   "collapsed_sections": [],
   "default_view": {},
   "name": "Decision Tree on Amazon Fine Foods Review 20JUL18",
   "provenance": [
    {
     "file_id": "1kh1qsG5kRDIHmJES0zef1SXsiXfyx8ne",
     "timestamp": 1531960814101
    },
    {
     "file_id": "1GzNApbmjR1HrQKsYScthU9T_liJcYujx",
     "timestamp": 1530061772229
    }
   ],
   "version": "0.3.2",
   "views": {}
  },
  "kernelspec": {
   "display_name": "Python 3",
   "language": "python",
   "name": "python3"
  },
  "language_info": {
   "codemirror_mode": {
    "name": "ipython",
    "version": 3
   },
   "file_extension": ".py",
   "mimetype": "text/x-python",
   "name": "python",
   "nbconvert_exporter": "python",
   "pygments_lexer": "ipython3",
   "version": "3.6.4"
  }
 },
 "nbformat": 4,
 "nbformat_minor": 1
}
