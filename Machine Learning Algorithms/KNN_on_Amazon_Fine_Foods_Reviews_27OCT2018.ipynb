{
 "cells": [
  {
   "cell_type": "markdown",
   "metadata": {
    "colab_type": "text",
    "id": "PHhbwnqa0B4C"
   },
   "source": [
    ">    **KNN on Amazon Fine Foods Reviews**\n",
    "\n",
    "**Objective** - Run KNN Algorithms on Amazon Fine Foods Review Dataset using BoW,TF-IDF,Avg Word2Vec and TF-IDF weighed Word2Vec vectorization methods. Also to report the metrics for each iteration. Time based splitting to be followed.\n",
    "\n",
    "\n",
    "**KNN Algorithms to be used** - KD TREE and BRUTE\n",
    "\n",
    "**Kaggle Dataset Location** - https://www.kaggle.com/snap/amazon-fine-food-reviews/data\n",
    "\n"
   ]
  },
  {
   "cell_type": "markdown",
   "metadata": {
    "colab_type": "text",
    "id": "UO3bcw0R0B4E"
   },
   "source": [
    "**1. Importing required packages**"
   ]
  },
  {
   "cell_type": "code",
   "execution_count": 1,
   "metadata": {
    "colab": {
     "autoexec": {
      "startup": false,
      "wait_interval": 0
     }
    },
    "colab_type": "code",
    "id": "jBfS3wst0B4I"
   },
   "outputs": [
    {
     "name": "stderr",
     "output_type": "stream",
     "text": [
      "/usr/lib/python3/dist-packages/sklearn/cross_validation.py:44: DeprecationWarning: This module was deprecated in version 0.18 in favor of the model_selection module into which all the refactored classes and functions are moved. Also note that the interface of the new CV iterators are different from that of this module. This module will be removed in 0.20.\n",
      "  \"This module will be removed in 0.20.\", DeprecationWarning)\n"
     ]
    }
   ],
   "source": [
    "# import packages\n",
    "import warnings\n",
    "warnings.filterwarnings('ignore')\n",
    "\n",
    "import pandas as pd\n",
    "import numpy as np\n",
    "import matplotlib.pyplot as plt\n",
    "import seaborn as sns\n",
    "import string\n",
    "import sqlite3\n",
    "import re\n",
    "from nltk.corpus import stopwords\n",
    "from nltk.stem import PorterStemmer\n",
    "from nltk.stem import SnowballStemmer\n",
    "from nltk.stem.wordnet import WordNetLemmatizer\n",
    "from sklearn.neighbors import KNeighborsClassifier\n",
    "from sklearn.metrics import accuracy_score,precision_score,recall_score,confusion_matrix,classification_report,f1_score\n",
    "from sklearn.decomposition import TruncatedSVD\n",
    "from sklearn import cross_validation\n",
    "from sklearn.cross_validation import cross_val_score\n",
    "from sklearn.feature_extraction.text import CountVectorizer\n",
    "from sklearn.feature_extraction.text import TfidfVectorizer\n",
    "import gensim\n",
    "from sklearn.model_selection import train_test_split\n",
    "from tqdm import tqdm"
   ]
  },
  {
   "cell_type": "markdown",
   "metadata": {
    "colab_type": "text",
    "id": "SDH3RqDG0B4T"
   },
   "source": [
    "**2. Importing Dataset from database.sqlite and ignoring reviews with Score  = 3 as they represent a neutral view**"
   ]
  },
  {
   "cell_type": "code",
   "execution_count": 2,
   "metadata": {
    "colab": {
     "autoexec": {
      "startup": false,
      "wait_interval": 0
     }
    },
    "colab_type": "code",
    "id": "Sn4EnmMU0B4U"
   },
   "outputs": [],
   "source": [
    "# creating sql connection string\n",
    "con = sqlite3.connect('AmazonReviews.sqlite')"
   ]
  },
  {
   "cell_type": "code",
   "execution_count": 3,
   "metadata": {
    "colab": {
     "autoexec": {
      "startup": false,
      "wait_interval": 0
     }
    },
    "colab_type": "code",
    "id": "3AkXVJ2-0B4b"
   },
   "outputs": [],
   "source": [
    "#Positive Review - Rating above 3\n",
    "#Negative Review - Rating below 3\n",
    "#Ignoring Reviews with 3 Rating\n",
    "\n",
    "filtered_data = pd.read_sql_query('SELECT * from Reviews WHERE Score != 3',con)"
   ]
  },
  {
   "cell_type": "code",
   "execution_count": 4,
   "metadata": {
    "colab": {
     "autoexec": {
      "startup": false,
      "wait_interval": 0
     }
    },
    "colab_type": "code",
    "id": "OJ7X-OGZ0B4m"
   },
   "outputs": [],
   "source": [
    "# mapping ratings above 3 as Positive and below 3 as Negative\n",
    "\n",
    "actual_scores = filtered_data['Score']\n",
    "positiveNegative = actual_scores.map(lambda x: 'Positive' if x>3 else 'Negative')\n",
    "filtered_data['Score'] = positiveNegative"
   ]
  },
  {
   "cell_type": "code",
   "execution_count": 5,
   "metadata": {
    "colab": {
     "autoexec": {
      "startup": false,
      "wait_interval": 0
     },
     "base_uri": "https://localhost:8080/",
     "height": 374
    },
    "colab_type": "code",
    "executionInfo": {
     "elapsed": 1130,
     "status": "ok",
     "timestamp": 1532914428024,
     "user": {
      "displayName": "Chiranjib Sarma",
      "photoUrl": "//lh5.googleusercontent.com/-qgR21D2ilJw/AAAAAAAAAAI/AAAAAAAAL3Q/viq52ZH0_1I/s50-c-k-no/photo.jpg",
      "userId": "101813071526859824880"
     },
     "user_tz": -330
    },
    "id": "sKOYOuss0B4s",
    "outputId": "7f941c72-bc42-4337-c43c-ba7586c1a17e"
   },
   "outputs": [
    {
     "data": {
      "text/html": [
       "<div>\n",
       "<style scoped>\n",
       "    .dataframe tbody tr th:only-of-type {\n",
       "        vertical-align: middle;\n",
       "    }\n",
       "\n",
       "    .dataframe tbody tr th {\n",
       "        vertical-align: top;\n",
       "    }\n",
       "\n",
       "    .dataframe thead th {\n",
       "        text-align: right;\n",
       "    }\n",
       "</style>\n",
       "<table border=\"1\" class=\"dataframe\">\n",
       "  <thead>\n",
       "    <tr style=\"text-align: right;\">\n",
       "      <th></th>\n",
       "      <th>Id</th>\n",
       "      <th>ProductId</th>\n",
       "      <th>UserId</th>\n",
       "      <th>ProfileName</th>\n",
       "      <th>HelpfulnessNumerator</th>\n",
       "      <th>HelpfulnessDenominator</th>\n",
       "      <th>Score</th>\n",
       "      <th>Time</th>\n",
       "      <th>Summary</th>\n",
       "      <th>Text</th>\n",
       "    </tr>\n",
       "  </thead>\n",
       "  <tbody>\n",
       "    <tr>\n",
       "      <th>0</th>\n",
       "      <td>1</td>\n",
       "      <td>B001E4KFG0</td>\n",
       "      <td>A3SGXH7AUHU8GW</td>\n",
       "      <td>delmartian</td>\n",
       "      <td>1</td>\n",
       "      <td>1</td>\n",
       "      <td>Positive</td>\n",
       "      <td>1303862400</td>\n",
       "      <td>Good Quality Dog Food</td>\n",
       "      <td>I have bought several of the Vitality canned d...</td>\n",
       "    </tr>\n",
       "    <tr>\n",
       "      <th>1</th>\n",
       "      <td>2</td>\n",
       "      <td>B00813GRG4</td>\n",
       "      <td>A1D87F6ZCVE5NK</td>\n",
       "      <td>dll pa</td>\n",
       "      <td>0</td>\n",
       "      <td>0</td>\n",
       "      <td>Negative</td>\n",
       "      <td>1346976000</td>\n",
       "      <td>Not as Advertised</td>\n",
       "      <td>Product arrived labeled as Jumbo Salted Peanut...</td>\n",
       "    </tr>\n",
       "    <tr>\n",
       "      <th>2</th>\n",
       "      <td>3</td>\n",
       "      <td>B000LQOCH0</td>\n",
       "      <td>ABXLMWJIXXAIN</td>\n",
       "      <td>Natalia Corres \"Natalia Corres\"</td>\n",
       "      <td>1</td>\n",
       "      <td>1</td>\n",
       "      <td>Positive</td>\n",
       "      <td>1219017600</td>\n",
       "      <td>\"Delight\" says it all</td>\n",
       "      <td>This is a confection that has been around a fe...</td>\n",
       "    </tr>\n",
       "    <tr>\n",
       "      <th>3</th>\n",
       "      <td>4</td>\n",
       "      <td>B000UA0QIQ</td>\n",
       "      <td>A395BORC6FGVXV</td>\n",
       "      <td>Karl</td>\n",
       "      <td>3</td>\n",
       "      <td>3</td>\n",
       "      <td>Negative</td>\n",
       "      <td>1307923200</td>\n",
       "      <td>Cough Medicine</td>\n",
       "      <td>If you are looking for the secret ingredient i...</td>\n",
       "    </tr>\n",
       "    <tr>\n",
       "      <th>4</th>\n",
       "      <td>5</td>\n",
       "      <td>B006K2ZZ7K</td>\n",
       "      <td>A1UQRSCLF8GW1T</td>\n",
       "      <td>Michael D. Bigham \"M. Wassir\"</td>\n",
       "      <td>0</td>\n",
       "      <td>0</td>\n",
       "      <td>Positive</td>\n",
       "      <td>1350777600</td>\n",
       "      <td>Great taffy</td>\n",
       "      <td>Great taffy at a great price.  There was a wid...</td>\n",
       "    </tr>\n",
       "  </tbody>\n",
       "</table>\n",
       "</div>"
      ],
      "text/plain": [
       "   Id   ProductId          UserId                      ProfileName  \\\n",
       "0   1  B001E4KFG0  A3SGXH7AUHU8GW                       delmartian   \n",
       "1   2  B00813GRG4  A1D87F6ZCVE5NK                           dll pa   \n",
       "2   3  B000LQOCH0   ABXLMWJIXXAIN  Natalia Corres \"Natalia Corres\"   \n",
       "3   4  B000UA0QIQ  A395BORC6FGVXV                             Karl   \n",
       "4   5  B006K2ZZ7K  A1UQRSCLF8GW1T    Michael D. Bigham \"M. Wassir\"   \n",
       "\n",
       "   HelpfulnessNumerator  HelpfulnessDenominator     Score        Time  \\\n",
       "0                     1                       1  Positive  1303862400   \n",
       "1                     0                       0  Negative  1346976000   \n",
       "2                     1                       1  Positive  1219017600   \n",
       "3                     3                       3  Negative  1307923200   \n",
       "4                     0                       0  Positive  1350777600   \n",
       "\n",
       "                 Summary                                               Text  \n",
       "0  Good Quality Dog Food  I have bought several of the Vitality canned d...  \n",
       "1      Not as Advertised  Product arrived labeled as Jumbo Salted Peanut...  \n",
       "2  \"Delight\" says it all  This is a confection that has been around a fe...  \n",
       "3         Cough Medicine  If you are looking for the secret ingredient i...  \n",
       "4            Great taffy  Great taffy at a great price.  There was a wid...  "
      ]
     },
     "execution_count": 5,
     "metadata": {},
     "output_type": "execute_result"
    }
   ],
   "source": [
    "filtered_data.head(5)"
   ]
  },
  {
   "cell_type": "markdown",
   "metadata": {
    "colab_type": "text",
    "id": "iy8UjEIs0B4-"
   },
   "source": [
    "**3. Data Preprocessing**"
   ]
  },
  {
   "cell_type": "code",
   "execution_count": 6,
   "metadata": {
    "colab": {
     "autoexec": {
      "startup": false,
      "wait_interval": 0
     }
    },
    "colab_type": "code",
    "id": "KJSdHBNBuo0o"
   },
   "outputs": [],
   "source": [
    "final = filtered_data.drop_duplicates(subset= { 'UserId', 'ProfileName', 'Time',  'Text'})"
   ]
  },
  {
   "cell_type": "code",
   "execution_count": 7,
   "metadata": {
    "colab": {
     "autoexec": {
      "startup": false,
      "wait_interval": 0
     },
     "base_uri": "https://localhost:8080/",
     "height": 51
    },
    "colab_type": "code",
    "executionInfo": {
     "elapsed": 1242,
     "status": "ok",
     "timestamp": 1532914432269,
     "user": {
      "displayName": "Chiranjib Sarma",
      "photoUrl": "//lh5.googleusercontent.com/-qgR21D2ilJw/AAAAAAAAAAI/AAAAAAAAL3Q/viq52ZH0_1I/s50-c-k-no/photo.jpg",
      "userId": "101813071526859824880"
     },
     "user_tz": -330
    },
    "id": "W7IIIVQU0B5J",
    "outputId": "4080c7e1-7909-4027-d8a0-709b89e852c0"
   },
   "outputs": [
    {
     "name": "stdout",
     "output_type": "stream",
     "text": [
      "Rows dropped :  1616410\n",
      "Percentage Data remaining after dropping duplicates : 69.25890143662969\n"
     ]
    }
   ],
   "source": [
    "print('Rows dropped : ',filtered_data.size - final.size)\n",
    "print('Percentage Data remaining after dropping duplicates :',(((final.size * 1.0)/(filtered_data.size * 1.0) * 100.0)))"
   ]
  },
  {
   "cell_type": "code",
   "execution_count": 8,
   "metadata": {
    "colab": {
     "autoexec": {
      "startup": false,
      "wait_interval": 0
     }
    },
    "colab_type": "code",
    "id": "hmLsrMfY0B5S"
   },
   "outputs": [],
   "source": [
    "# Dropping rows where HelpfulnessNumerator < HelpfulnessDenominator\n",
    "final = final[final.HelpfulnessDenominator >= final.HelpfulnessNumerator]"
   ]
  },
  {
   "cell_type": "code",
   "execution_count": 9,
   "metadata": {
    "colab": {
     "autoexec": {
      "startup": false,
      "wait_interval": 0
     },
     "base_uri": "https://localhost:8080/",
     "height": 34
    },
    "colab_type": "code",
    "executionInfo": {
     "elapsed": 744,
     "status": "ok",
     "timestamp": 1532914434651,
     "user": {
      "displayName": "Chiranjib Sarma",
      "photoUrl": "//lh5.googleusercontent.com/-qgR21D2ilJw/AAAAAAAAAAI/AAAAAAAAL3Q/viq52ZH0_1I/s50-c-k-no/photo.jpg",
      "userId": "101813071526859824880"
     },
     "user_tz": -330
    },
    "id": "-dxCKgdg0B5Z",
    "outputId": "5e0b0114-f5d3-4235-ada6-ee0a3a132311"
   },
   "outputs": [
    {
     "name": "stdout",
     "output_type": "stream",
     "text": [
      "Number of Rows remaining in the Dataset:  3641710\n"
     ]
    }
   ],
   "source": [
    "print('Number of Rows remaining in the Dataset: ',final.size)"
   ]
  },
  {
   "cell_type": "code",
   "execution_count": 10,
   "metadata": {
    "colab": {
     "autoexec": {
      "startup": false,
      "wait_interval": 0
     },
     "base_uri": "https://localhost:8080/",
     "height": 68
    },
    "colab_type": "code",
    "executionInfo": {
     "elapsed": 1057,
     "status": "ok",
     "timestamp": 1532914435977,
     "user": {
      "displayName": "Chiranjib Sarma",
      "photoUrl": "//lh5.googleusercontent.com/-qgR21D2ilJw/AAAAAAAAAAI/AAAAAAAAL3Q/viq52ZH0_1I/s50-c-k-no/photo.jpg",
      "userId": "101813071526859824880"
     },
     "user_tz": -330
    },
    "id": "xhNqu-Du0B5h",
    "outputId": "2f9bac61-403e-46d1-aced-47414de8b717"
   },
   "outputs": [
    {
     "data": {
      "text/plain": [
       "Positive    307061\n",
       "Negative     57110\n",
       "Name: Score, dtype: int64"
      ]
     },
     "execution_count": 10,
     "metadata": {},
     "output_type": "execute_result"
    }
   ],
   "source": [
    "# Checking the number of positive and negative reviews\n",
    "final['Score'].value_counts()"
   ]
  },
  {
   "cell_type": "code",
   "execution_count": 11,
   "metadata": {
    "colab": {
     "autoexec": {
      "startup": false,
      "wait_interval": 0
     }
    },
    "colab_type": "code",
    "id": "4UxODKLY0B5n"
   },
   "outputs": [],
   "source": [
    "# Data Sampling\n",
    "final = final.iloc[:50000,:]"
   ]
  },
  {
   "cell_type": "code",
   "execution_count": 12,
   "metadata": {
    "colab": {
     "autoexec": {
      "startup": false,
      "wait_interval": 0
     },
     "base_uri": "https://localhost:8080/",
     "height": 429
    },
    "colab_type": "code",
    "executionInfo": {
     "elapsed": 1134,
     "status": "ok",
     "timestamp": 1532914438341,
     "user": {
      "displayName": "Chiranjib Sarma",
      "photoUrl": "//lh5.googleusercontent.com/-qgR21D2ilJw/AAAAAAAAAAI/AAAAAAAAL3Q/viq52ZH0_1I/s50-c-k-no/photo.jpg",
      "userId": "101813071526859824880"
     },
     "user_tz": -330
    },
    "id": "WkPbq0itYFVZ",
    "outputId": "0f337bca-be67-44ec-d786-54ed8e3d8bcb"
   },
   "outputs": [
    {
     "data": {
      "image/png": "[encoded data removed]",
      "text/plain": [
       "<Figure size 432x288 with 1 Axes>"
      ]
     },
     "metadata": {},
     "output_type": "display_data"
    },
    {
     "name": "stdout",
     "output_type": "stream",
     "text": [
      "Positive    41815\n",
      "Negative     8185\n",
      "Name: Score, dtype: int64\n"
     ]
    }
   ],
   "source": [
    "# Checking the number of positive and negative reviews\n",
    "\n",
    "Class_Count  = final['Score'].value_counts()\n",
    "\n",
    "plt.figure()\n",
    "flatui = [\"#15ff00\", \"#ff0033\"]\n",
    "sns.set_palette(flatui)\n",
    "sns.barplot(Class_Count.index, Class_Count.values, alpha=0.8 )\n",
    "plt.title('Positive Class Count vs Negative Class Count')\n",
    "plt.ylabel('Count', fontsize=12)\n",
    "plt.xlabel('Class', fontsize=12)\n",
    "plt.show()\n",
    "\n",
    "print(final['Score'].value_counts())"
   ]
  },
  {
   "cell_type": "code",
   "execution_count": 13,
   "metadata": {
    "colab": {
     "autoexec": {
      "startup": false,
      "wait_interval": 0
     }
    },
    "colab_type": "code",
    "id": "8DwOqu50uzLy"
   },
   "outputs": [],
   "source": [
    "# Sorting values according to Time for Time Based Slicing\n",
    "final = final.sort_values('Time',kind = 'quicksort')"
   ]
  },
  {
   "cell_type": "markdown",
   "metadata": {},
   "source": [
    "#### 4. Cleaning Data - Stop Words Removal,Stemming,Removing HTML tags and Special Characters"
   ]
  },
  {
   "cell_type": "code",
   "execution_count": 14,
   "metadata": {
    "colab": {
     "autoexec": {
      "startup": false,
      "wait_interval": 0
     }
    },
    "colab_type": "code",
    "id": "fhD996EI0B5s"
   },
   "outputs": [],
   "source": [
    "# Function to Remove HTML Tags\n",
    "def cleanhtml(sentence):\n",
    "    cleaner = re.compile('<.*?>')\n",
    "    cleantext = re.sub(cleaner,\"\",sentence)\n",
    "    return cleantext"
   ]
  },
  {
   "cell_type": "code",
   "execution_count": 15,
   "metadata": {
    "colab": {
     "autoexec": {
      "startup": false,
      "wait_interval": 0
     }
    },
    "colab_type": "code",
    "id": "fgvl88Ta0B51"
   },
   "outputs": [],
   "source": [
    "# Function to clean punctuations and special characters\n",
    "\n",
    "def cleanpunct(sentence):\n",
    "    cleaned = re.sub(r'[?|!|\\'|\"|#]',r'',sentence)\n",
    "    cleaned = re.sub(r'[.|,|)|(|\\|/]',r' ',cleaned)\n",
    "    return  cleaned\n"
   ]
  },
  {
   "cell_type": "code",
   "execution_count": 16,
   "metadata": {
    "colab": {
     "autoexec": {
      "startup": false,
      "wait_interval": 0
     }
    },
    "colab_type": "code",
    "id": "bXIfgAM80B57"
   },
   "outputs": [],
   "source": [
    "# Initialize Stop words and PorterStemmer and Lemmetizer\n",
    "stop = set(stopwords.words('english'))\n",
    "sno = SnowballStemmer('english')\n",
    "\n",
    "\n",
    "#print(stop)\n",
    "#print('*' * 100)\n",
    "#print(sno.stem('tasty'))"
   ]
  },
  {
   "cell_type": "code",
   "execution_count": 17,
   "metadata": {
    "colab": {
     "autoexec": {
      "startup": false,
      "wait_interval": 0
     }
    },
    "colab_type": "code",
    "id": "c5WzyD7I0B6G"
   },
   "outputs": [
    {
     "name": "stderr",
     "output_type": "stream",
     "text": [
      "100%|██████████| 50000/50000 [00:54<00:00, 913.85it/s] \n"
     ]
    }
   ],
   "source": [
    "\n",
    "# Cleaning HTML and non-Alphanumeric characters from the review text\n",
    "i=0\n",
    "str1=' '\n",
    "final_string=[]\n",
    "all_positive_words=[] # store words from +ve reviews here\n",
    "all_negative_words=[] # store words from -ve reviews here.\n",
    "s=''\n",
    "for sent in tqdm(final['Text'].values):\n",
    "    filtered_sentence=[]\n",
    "    #print(sent);\n",
    "    sent=cleanhtml(sent) # remove HTMl tags\n",
    "    for w in sent.split():\n",
    "        for cleaned_words in cleanpunct(w).split():\n",
    "            if((cleaned_words.isalpha()) & (len(cleaned_words)>2)):    \n",
    "                if(cleaned_words.lower() not in stop):\n",
    "                    s=(sno.stem(cleaned_words.lower())).encode('utf8')\n",
    "                    filtered_sentence.append(s)\n",
    "                    if (final['Score'].values)[i] == 'Positive': \n",
    "                        all_positive_words.append(s) #list of all words used to describe positive reviews\n",
    "                    if(final['Score'].values)[i] == 'Negative':\n",
    "                        all_negative_words.append(s) #list of all words used to describe negative reviews reviews\n",
    "                else:\n",
    "                    continue\n",
    "            else:\n",
    "                continue \n",
    "    #print(filtered_sentence)\n",
    "    str1 = b\" \".join(filtered_sentence) #final string of cleaned words\n",
    "    #print(\"***********************************************************************\")\n",
    "    \n",
    "    final_string.append(str1)\n",
    "    i+=1"
   ]
  },
  {
   "cell_type": "code",
   "execution_count": 18,
   "metadata": {
    "colab": {
     "autoexec": {
      "startup": false,
      "wait_interval": 0
     },
     "base_uri": "https://localhost:8080/",
     "height": 595
    },
    "colab_type": "code",
    "executionInfo": {
     "elapsed": 1128,
     "status": "ok",
     "timestamp": 1532914490174,
     "user": {
      "displayName": "Chiranjib Sarma",
      "photoUrl": "//lh5.googleusercontent.com/-qgR21D2ilJw/AAAAAAAAAAI/AAAAAAAAL3Q/viq52ZH0_1I/s50-c-k-no/photo.jpg",
      "userId": "101813071526859824880"
     },
     "user_tz": -330
    },
    "id": "viaYBLDL0B6L",
    "outputId": "128e0424-4e90-4179-f259-053ce56b5c56"
   },
   "outputs": [
    {
     "data": {
      "text/html": [
       "<div>\n",
       "<style scoped>\n",
       "    .dataframe tbody tr th:only-of-type {\n",
       "        vertical-align: middle;\n",
       "    }\n",
       "\n",
       "    .dataframe tbody tr th {\n",
       "        vertical-align: top;\n",
       "    }\n",
       "\n",
       "    .dataframe thead th {\n",
       "        text-align: right;\n",
       "    }\n",
       "</style>\n",
       "<table border=\"1\" class=\"dataframe\">\n",
       "  <thead>\n",
       "    <tr style=\"text-align: right;\">\n",
       "      <th></th>\n",
       "      <th>Id</th>\n",
       "      <th>ProductId</th>\n",
       "      <th>UserId</th>\n",
       "      <th>ProfileName</th>\n",
       "      <th>HelpfulnessNumerator</th>\n",
       "      <th>HelpfulnessDenominator</th>\n",
       "      <th>Score</th>\n",
       "      <th>Time</th>\n",
       "      <th>Summary</th>\n",
       "      <th>Text</th>\n",
       "      <th>CleanedText</th>\n",
       "    </tr>\n",
       "  </thead>\n",
       "  <tbody>\n",
       "    <tr>\n",
       "      <th>1146</th>\n",
       "      <td>1245</td>\n",
       "      <td>B00002Z754</td>\n",
       "      <td>A29Z5PI9BW2PU3</td>\n",
       "      <td>Robbie</td>\n",
       "      <td>7</td>\n",
       "      <td>7</td>\n",
       "      <td>Positive</td>\n",
       "      <td>961718400</td>\n",
       "      <td>Great Product</td>\n",
       "      <td>This was a really good idea and the final prod...</td>\n",
       "      <td>b'realli good idea final product outstand use ...</td>\n",
       "    </tr>\n",
       "    <tr>\n",
       "      <th>1145</th>\n",
       "      <td>1244</td>\n",
       "      <td>B00002Z754</td>\n",
       "      <td>A3B8RCEI0FXFI6</td>\n",
       "      <td>B G Chase</td>\n",
       "      <td>10</td>\n",
       "      <td>10</td>\n",
       "      <td>Positive</td>\n",
       "      <td>962236800</td>\n",
       "      <td>WOW Make your own 'slickers' !</td>\n",
       "      <td>I just received my shipment and could hardly w...</td>\n",
       "      <td>b'receiv shipment could hard wait tri product ...</td>\n",
       "    </tr>\n",
       "    <tr>\n",
       "      <th>28087</th>\n",
       "      <td>30630</td>\n",
       "      <td>B00008RCMI</td>\n",
       "      <td>A284C7M23F0APC</td>\n",
       "      <td>A. Mendoza</td>\n",
       "      <td>0</td>\n",
       "      <td>0</td>\n",
       "      <td>Positive</td>\n",
       "      <td>1067040000</td>\n",
       "      <td>Best sugarless gum ever!</td>\n",
       "      <td>I love this stuff. It is sugar-free so it does...</td>\n",
       "      <td>b'love stuff doesnt rot gum tast good go buy g...</td>\n",
       "    </tr>\n",
       "    <tr>\n",
       "      <th>28086</th>\n",
       "      <td>30629</td>\n",
       "      <td>B00008RCMI</td>\n",
       "      <td>A19E94CF5O1LY7</td>\n",
       "      <td>Andrew Arnold</td>\n",
       "      <td>0</td>\n",
       "      <td>0</td>\n",
       "      <td>Positive</td>\n",
       "      <td>1067040000</td>\n",
       "      <td>I've chewed this gum many times, but used?</td>\n",
       "      <td>Nothing against the product, but it does bothe...</td>\n",
       "      <td>b'noth product bother link top page buy use ch...</td>\n",
       "    </tr>\n",
       "    <tr>\n",
       "      <th>38740</th>\n",
       "      <td>42069</td>\n",
       "      <td>B0000EIEQU</td>\n",
       "      <td>A1YMJX4YWCE6P4</td>\n",
       "      <td>Jim Carson \"http://www.jimcarson.com\"</td>\n",
       "      <td>12</td>\n",
       "      <td>12</td>\n",
       "      <td>Positive</td>\n",
       "      <td>1067558400</td>\n",
       "      <td>These limes rule!</td>\n",
       "      <td>Fresh limes are underappreciated, but a joy to...</td>\n",
       "      <td>b'fresh lime underappreci joy kitchen squirt l...</td>\n",
       "    </tr>\n",
       "  </tbody>\n",
       "</table>\n",
       "</div>"
      ],
      "text/plain": [
       "          Id   ProductId          UserId  \\\n",
       "1146    1245  B00002Z754  A29Z5PI9BW2PU3   \n",
       "1145    1244  B00002Z754  A3B8RCEI0FXFI6   \n",
       "28087  30630  B00008RCMI  A284C7M23F0APC   \n",
       "28086  30629  B00008RCMI  A19E94CF5O1LY7   \n",
       "38740  42069  B0000EIEQU  A1YMJX4YWCE6P4   \n",
       "\n",
       "                                 ProfileName  HelpfulnessNumerator  \\\n",
       "1146                                  Robbie                     7   \n",
       "1145                               B G Chase                    10   \n",
       "28087                             A. Mendoza                     0   \n",
       "28086                          Andrew Arnold                     0   \n",
       "38740  Jim Carson \"http://www.jimcarson.com\"                    12   \n",
       "\n",
       "       HelpfulnessDenominator     Score        Time  \\\n",
       "1146                        7  Positive   961718400   \n",
       "1145                       10  Positive   962236800   \n",
       "28087                       0  Positive  1067040000   \n",
       "28086                       0  Positive  1067040000   \n",
       "38740                      12  Positive  1067558400   \n",
       "\n",
       "                                          Summary  \\\n",
       "1146                                Great Product   \n",
       "1145               WOW Make your own 'slickers' !   \n",
       "28087                    Best sugarless gum ever!   \n",
       "28086  I've chewed this gum many times, but used?   \n",
       "38740                           These limes rule!   \n",
       "\n",
       "                                                    Text  \\\n",
       "1146   This was a really good idea and the final prod...   \n",
       "1145   I just received my shipment and could hardly w...   \n",
       "28087  I love this stuff. It is sugar-free so it does...   \n",
       "28086  Nothing against the product, but it does bothe...   \n",
       "38740  Fresh limes are underappreciated, but a joy to...   \n",
       "\n",
       "                                             CleanedText  \n",
       "1146   b'realli good idea final product outstand use ...  \n",
       "1145   b'receiv shipment could hard wait tri product ...  \n",
       "28087  b'love stuff doesnt rot gum tast good go buy g...  \n",
       "28086  b'noth product bother link top page buy use ch...  \n",
       "38740  b'fresh lime underappreci joy kitchen squirt l...  "
      ]
     },
     "execution_count": 18,
     "metadata": {},
     "output_type": "execute_result"
    }
   ],
   "source": [
    "final['CleanedText']=final_string\n",
    "final.head(5)"
   ]
  },
  {
   "cell_type": "markdown",
   "metadata": {
    "colab_type": "text",
    "id": "IM5_xHB20B6P"
   },
   "source": [
    "#### 4.  KNN with KD Tree and Brute Force Algorithm\n",
    "\n",
    "kd-Tree can consume only dense matrices as input and we know that both BoW and TF-IDF gives sparse matrix as output.\n",
    "The runKNN function uses TruncatedSVD to convert sparse to dense matrix only when output of BoW or TF-IDF vectorization method is passed to kd-Tree. Word2Vec provides dense matrix as output and as such fed directly to kd-Tree. "
   ]
  },
  {
   "cell_type": "code",
   "execution_count": 19,
   "metadata": {
    "colab": {
     "autoexec": {
      "startup": false,
      "wait_interval": 0
     }
    },
    "colab_type": "code",
    "id": "D9sxyqjiZfra"
   },
   "outputs": [],
   "source": [
    "#Dictionary for storing Metrics\n",
    "Final_Metrics =pd.DataFrame()\n",
    "Final_List = []"
   ]
  },
  {
   "cell_type": "code",
   "execution_count": 39,
   "metadata": {
    "colab": {
     "autoexec": {
      "startup": false,
      "wait_interval": 0
     }
    },
    "colab_type": "code",
    "id": "OacjfPOW0B6Q"
   },
   "outputs": [],
   "source": [
    "\n",
    "# Function for KNN\n",
    "def runKNN(X_Train,X_Test,y_train,y_test,VectorizationType,algo):\n",
    "    global Final_Metrics\n",
    "    cv_scores = []\n",
    "    k_value = []\n",
    "    Train_Scores = []\n",
    "    Test_Scores = []\n",
    "    algorithm = ['kd_tree','brute']\n",
    "    Cnf_Mtx = []\n",
    "    Algo_Temp = 'Dummy'\n",
    "    \n",
    "        \n",
    "    # kd_tree cannot consume Sparse Matrix. Converting Sparse Matrix to Dense using Truncated SVD.\n",
    "    if algo == 'kd_tree' and VectorizationType in ['Bag of Words','TF-IDF']:\n",
    "      Algo_Temp = algo\n",
    "      svd = TruncatedSVD()\n",
    "      X_Train = svd.fit_transform(X_Train)\n",
    "      X_Test = svd.fit_transform(X_Test)\n",
    "           \n",
    "            \n",
    "    print('*' * 300)        \n",
    "    j=0\n",
    "    for i in range(1,30,5):\n",
    "    # instantiate learning model (k = 30)\n",
    "      knn = KNeighborsClassifier(n_neighbors=i,algorithm = algo)\n",
    "      scores = cross_val_score(knn, X_Train, y_train, cv=10, scoring='accuracy')\n",
    "      cv_scores.append(scores.mean())\n",
    "      k_value.append(i)\n",
    "      \n",
    "      print('For K = ', i,'Accuracy Score = ', cv_scores[j])\n",
    "      j+=1\n",
    "       \n",
    "    plt.plot(k_value,cv_scores,'-o')\n",
    "    plt.xlabel('K-Value')\n",
    "    plt.ylabel('CV-Scores')\n",
    "    plt.title('K-Value vs CV-Scores')\n",
    "    print('*' * 300)\n",
    "               \n",
    "        #print(cv_scores)\n",
    "        #print(max(cv_scores))\n",
    "    k_optimum = k_value[cv_scores.index(max(cv_scores))]\n",
    "\n",
    "    knn = KNeighborsClassifier(n_neighbors=k_optimum,algorithm = algo)\n",
    "        # fitting the model on crossvalidation train\n",
    "    knn.fit(X_Train, y_train)\n",
    "\n",
    "        # predict the response on the crossvalidation train\n",
    "    pred = knn.predict(X_Test)\n",
    "    knn.fit(X_Train, y_train).score(X_Train, y_train)\n",
    "    Train_Scores.append(knn.score(X_Train, y_train))\n",
    "    Test_Scores.append(knn.score(X_Test, y_test))\n",
    "      \n",
    "    Temp_List = [algo,VectorizationType,k_optimum,knn.score(X_Train, y_train)*100,knn.score(X_Test, y_test)*100]\n",
    "        #print(Temp_List)\n",
    "    Final_Metrics = Final_Metrics.append({'Algorithm': algo,'Vectorization':VectorizationType,'HyperParameter':k_optimum,\n",
    "                                              'Training Accuracy Score': knn.score(X_Train, y_train)*100,\n",
    "                                              'Testing Accuracy Score':knn.score(X_Test, y_test)*100},\n",
    "                                            ignore_index=True)\n",
    "\n",
    "        # evaluate CV accuracy\n",
    "        #acc = accuracy_score(y_cv_input, pred, normalize=True) * float(100)\n",
    "        \n",
    "    print('\\nDetails for ',VectorizationType,'Vectorization:')\n",
    "        \n",
    "      #print('Accuracy for',algo,' algorithm with alpha =',alpha_optimum,' is ' ,np.round((accuracy_score(y_cv_input, pred)*100),decimals = 2))\n",
    "    print('Accuracy for',algo,' algorithm with K =',k_optimum,' is ' ,np.round((accuracy_score(y_test, pred)*100),decimals = 2))\n",
    "    print('F1 score for',algo,' algorithm with K =',k_optimum,' is ' , np.round((f1_score(y_test, pred,average= 'macro')*100),decimals = 2))\n",
    "    print('Recall for',algo,' agorithm with K =',k_optimum,' is ' , np.round((recall_score(y_test, pred,average= 'macro')*100),decimals = 2))\n",
    "    print('Precision for',algo,' algorithm with K =',k_optimum,' is ' , np.round((precision_score(y_test, pred,average= 'macro')*100),decimals = 2))\n",
    "    print ('\\n Clasification report for',algo,' algorithm with K =',k_optimum,' is \\n ' , classification_report(y_test,pred))\n",
    "        #print ('\\n Confusion matrix for',algo,' algorithm with K =',k_optimum,' is \\n' ,confusion_matrix(y_test, pred))\n",
    "    Cnf_Mtx = [pred]\n",
    "    \n",
    "    plt.figure()\n",
    "    confusion_matrix_Plot = confusion_matrix(y_test,pred)\n",
    "    heatmap = sns.heatmap(confusion_matrix_Plot, annot=True, fmt=\"d\")\n",
    "    heatmap.yaxis.set_ticklabels(heatmap.yaxis.get_ticklabels(), rotation=0, ha='right')\n",
    "    heatmap.xaxis.set_ticklabels(heatmap.xaxis.get_ticklabels(), rotation=45, ha='right')\n",
    "    plt.ylabel('True label')\n",
    "    plt.xlabel('Predicted label')\n",
    "    \n",
    "    print('The Confusion Matrix for ',algo,' Algorithm')\n",
    "          \n",
    "        "
   ]
  },
  {
   "cell_type": "markdown",
   "metadata": {
    "colab_type": "text",
    "id": "kKIoEpBV0B6V"
   },
   "source": [
    "**4.1 Using Bag of Words**"
   ]
  },
  {
   "cell_type": "code",
   "execution_count": 21,
   "metadata": {
    "colab": {
     "autoexec": {
      "startup": false,
      "wait_interval": 0
     }
    },
    "colab_type": "code",
    "id": "HX4J6qCkcFq2"
   },
   "outputs": [],
   "source": [
    "#Splitting into Training and Testing Set, and using only Training set for Word2Vec Training\n",
    "X_Train,X_Test,y_train,y_test = train_test_split(final['CleanedText'],final['Score'])"
   ]
  },
  {
   "cell_type": "code",
   "execution_count": 22,
   "metadata": {
    "colab": {
     "autoexec": {
      "startup": false,
      "wait_interval": 0
     }
    },
    "colab_type": "code",
    "id": "-GqVD9UV0B6W"
   },
   "outputs": [],
   "source": [
    "# BoW Vectorization\n",
    "\n",
    "vect = CountVectorizer().fit(X_Train)\n",
    "X_Train = vect.transform(X_Train)\n",
    "X_Test = vect.transform(X_Test)"
   ]
  },
  {
   "cell_type": "code",
   "execution_count": 23,
   "metadata": {
    "colab": {
     "autoexec": {
      "startup": false,
      "wait_interval": 0
     },
     "base_uri": "https://localhost:8080/",
     "height": 1302
    },
    "colab_type": "code",
    "executionInfo": {
     "elapsed": 11123,
     "status": "ok",
     "timestamp": 1532914512353,
     "user": {
      "displayName": "Chiranjib Sarma",
      "photoUrl": "//lh5.googleusercontent.com/-qgR21D2ilJw/AAAAAAAAAAI/AAAAAAAAL3Q/viq52ZH0_1I/s50-c-k-no/photo.jpg",
      "userId": "101813071526859824880"
     },
     "user_tz": -330
    },
    "id": "QfiUuInl3hcq",
    "outputId": "eac12418-80ac-466f-a1bb-7bb9cc40cbfa"
   },
   "outputs": [
    {
     "name": "stdout",
     "output_type": "stream",
     "text": [
      "************************************************************************************************************************************************************************************************************************************************************************************************************\n",
      "For K =  1 Accuracy Score =  0.7258132789892702\n",
      "For K =  6 Accuracy Score =  0.7941865938849133\n",
      "For K =  11 Accuracy Score =  0.8292265953564394\n",
      "For K =  16 Accuracy Score =  0.8318133474740158\n",
      "For K =  21 Accuracy Score =  0.8338933404672005\n",
      "For K =  26 Accuracy Score =  0.834026666695111\n",
      "************************************************************************************************************************************************************************************************************************************************************************************************************\n",
      "\n",
      "Details for  Bag of Words Vectorization:\n",
      "Accuracy for kd_tree  algorithm with K = 26  is  84.14\n",
      "F1 score for kd_tree  algorithm with K = 26  is  45.79\n",
      "Recall for kd_tree  agorithm with K = 26  is  49.97\n",
      "Precision for kd_tree  algorithm with K = 26  is  47.39\n",
      "\n",
      " Clasification report for kd_tree  algorithm with K = 26  is \n",
      "               precision    recall  f1-score   support\n",
      "\n",
      "   Negative       0.11      0.00      0.00      1968\n",
      "   Positive       0.84      1.00      0.91     10532\n",
      "\n",
      "avg / total       0.73      0.84      0.77     12500\n",
      "\n",
      "The Confusion Matrix for  kd_tree  Algorithm\n"
     ]
    },
    {
     "data": {
      "image/png": "[encoded data removed]",
      "text/plain": [
       "<Figure size 432x288 with 1 Axes>"
      ]
     },
     "metadata": {},
     "output_type": "display_data"
    },
    {
     "data": {
      "image/png": "[encoded data removed]",
      "text/plain": [
       "<Figure size 432x288 with 2 Axes>"
      ]
     },
     "metadata": {},
     "output_type": "display_data"
    }
   ],
   "source": [
    "runKNN(X_Train,X_Test,y_train,y_test,'Bag of Words','kd_tree')\n"
   ]
  },
  {
   "cell_type": "code",
   "execution_count": 24,
   "metadata": {
    "colab": {
     "autoexec": {
      "startup": false,
      "wait_interval": 0
     },
     "base_uri": "https://localhost:8080/",
     "height": 1302
    },
    "colab_type": "code",
    "executionInfo": {
     "elapsed": 480790,
     "status": "ok",
     "timestamp": 1532914993226,
     "user": {
      "displayName": "Chiranjib Sarma",
      "photoUrl": "//lh5.googleusercontent.com/-qgR21D2ilJw/AAAAAAAAAAI/AAAAAAAAL3Q/viq52ZH0_1I/s50-c-k-no/photo.jpg",
      "userId": "101813071526859824880"
     },
     "user_tz": -330
    },
    "id": "eqCql3jR3jQx",
    "outputId": "d8cad354-3c20-4883-ce64-1f1f1caf59e2",
    "scrolled": true
   },
   "outputs": [
    {
     "name": "stdout",
     "output_type": "stream",
     "text": [
      "************************************************************************************************************************************************************************************************************************************************************************************************************\n",
      "For K =  1 Accuracy Score =  0.7374645933813044\n",
      "For K =  6 Accuracy Score =  0.8324799287959653\n",
      "For K =  11 Accuracy Score =  0.8406134189871468\n",
      "For K =  16 Accuracy Score =  0.8402135043015233\n",
      "For K =  21 Accuracy Score =  0.8372001850538799\n",
      "For K =  26 Accuracy Score =  0.8370401139389709\n",
      "************************************************************************************************************************************************************************************************************************************************************************************************************\n",
      "\n",
      "Details for  Bag of Words Vectorization:\n",
      "Accuracy for brute  algorithm with K = 11  is  84.88\n",
      "F1 score for brute  algorithm with K = 11  is  52.19\n",
      "Recall for brute  agorithm with K = 11  is  53.2\n",
      "Precision for brute  algorithm with K = 11  is  77.51\n",
      "\n",
      " Clasification report for brute  algorithm with K = 11  is \n",
      "               precision    recall  f1-score   support\n",
      "\n",
      "   Negative       0.70      0.07      0.13      1968\n",
      "   Positive       0.85      0.99      0.92     10532\n",
      "\n",
      "avg / total       0.83      0.85      0.79     12500\n",
      "\n",
      "The Confusion Matrix for  brute  Algorithm\n"
     ]
    },
    {
     "data": {
      "image/png": "[encoded data removed]",
      "text/plain": [
       "<Figure size 432x288 with 1 Axes>"
      ]
     },
     "metadata": {},
     "output_type": "display_data"
    },
    {
     "data": {
      "image/png": "[encoded data removed]",
      "text/plain": [
       "<Figure size 432x288 with 2 Axes>"
      ]
     },
     "metadata": {},
     "output_type": "display_data"
    }
   ],
   "source": [
    "runKNN(X_Train,X_Test,y_train,y_test,'Bag of Words','brute')"
   ]
  },
  {
   "cell_type": "markdown",
   "metadata": {
    "colab_type": "text",
    "id": "kSD6We0L0B6a"
   },
   "source": [
    "**4.2 Using TF-IDF**"
   ]
  },
  {
   "cell_type": "code",
   "execution_count": 25,
   "metadata": {
    "colab": {
     "autoexec": {
      "startup": false,
      "wait_interval": 0
     }
    },
    "colab_type": "code",
    "id": "7CqkY220xihi"
   },
   "outputs": [],
   "source": [
    "#Splitting into Training and Testing Set, and using only Training set for Word2Vec Training\n",
    "X_Train,X_Test,y_train,y_test = train_test_split(final['Text'],final['Score'])"
   ]
  },
  {
   "cell_type": "code",
   "execution_count": 26,
   "metadata": {},
   "outputs": [
    {
     "name": "stdout",
     "output_type": "stream",
     "text": [
      "the type of count vectorizer  <class 'scipy.sparse.csr.csr_matrix'>\n",
      "the shape of out text TFIDF vectorizer  (37500, 644934)\n",
      "the number of unique words including both unigrams and bigrams  644934\n",
      "the type of count vectorizer  <class 'scipy.sparse.csr.csr_matrix'>\n",
      "the shape of out text TFIDF vectorizer  (12500, 644934)\n",
      "the number of unique words including both unigrams and bigrams  644934\n"
     ]
    }
   ],
   "source": [
    "# Using on TRain Dataset for fitting the TFIDF\n",
    "tf_idf_vect = TfidfVectorizer(ngram_range=(1,2))\n",
    "tfidf_Train = tf_idf_vect.fit_transform(X_Train.values)\n",
    "\n",
    "# Using TRain fitted TFIDF to transform Test Dataset\n",
    "tfidf_Test = tf_idf_vect.transform(X_Test.values)\n",
    "\n",
    "\n",
    "#Check the structure of TFIDF transformed Train Dataset\n",
    "print(\"the type of count vectorizer \",type(tfidf_Train))\n",
    "print(\"the shape of out text TFIDF vectorizer \",tfidf_Train.get_shape())\n",
    "print(\"the number of unique words including both unigrams and bigrams \", tfidf_Train.get_shape()[1])\n",
    "\n",
    "\n",
    "#Check the structure of TFIDF transformed Test Dataset\n",
    "print(\"the type of count vectorizer \",type(tfidf_Test))\n",
    "print(\"the shape of out text TFIDF vectorizer \",tfidf_Test.get_shape())\n",
    "print(\"the number of unique words including both unigrams and bigrams \", tfidf_Test.get_shape()[1])\n",
    "\n",
    "X_train_Vectorised = tfidf_Train\n",
    "X_test_Vectorised = tfidf_Test\n",
    "X_train_Vectorised = np.nan_to_num(X_train_Vectorised)\n",
    "X_test_Vectorised = np.nan_to_num(X_test_Vectorised)"
   ]
  },
  {
   "cell_type": "code",
   "execution_count": 27,
   "metadata": {
    "colab": {
     "autoexec": {
      "startup": false,
      "wait_interval": 0
     },
     "base_uri": "https://localhost:8080/",
     "height": 1302
    },
    "colab_type": "code",
    "executionInfo": {
     "elapsed": 143233,
     "status": "ok",
     "timestamp": 1532915148873,
     "user": {
      "displayName": "Chiranjib Sarma",
      "photoUrl": "//lh5.googleusercontent.com/-qgR21D2ilJw/AAAAAAAAAAI/AAAAAAAAL3Q/viq52ZH0_1I/s50-c-k-no/photo.jpg",
      "userId": "101813071526859824880"
     },
     "user_tz": -330
    },
    "id": "6_QoK6A031tt",
    "outputId": "303db379-5a5f-4376-dbc3-255afa21774d"
   },
   "outputs": [
    {
     "name": "stdout",
     "output_type": "stream",
     "text": [
      "************************************************************************************************************************************************************************************************************************************************************************************************************\n",
      "For K =  1 Accuracy Score =  0.7290933333333334\n",
      "For K =  6 Accuracy Score =  0.7943733333333334\n",
      "For K =  11 Accuracy Score =  0.8306666666666667\n",
      "For K =  16 Accuracy Score =  0.8328\n",
      "For K =  21 Accuracy Score =  0.8348533333333334\n",
      "For K =  26 Accuracy Score =  0.8348266666666667\n",
      "************************************************************************************************************************************************************************************************************************************************************************************************************\n",
      "\n",
      "Details for  TF-IDF Vectorization:\n",
      "Accuracy for kd_tree  algorithm with K = 21  is  84.02\n",
      "F1 score for kd_tree  algorithm with K = 21  is  45.81\n",
      "Recall for kd_tree  agorithm with K = 21  is  50.05\n",
      "Precision for kd_tree  algorithm with K = 21  is  58.69\n",
      "\n",
      " Clasification report for kd_tree  algorithm with K = 21  is \n",
      "               precision    recall  f1-score   support\n",
      "\n",
      "   Negative       0.33      0.00      0.00      1995\n",
      "   Positive       0.84      1.00      0.91     10505\n",
      "\n",
      "avg / total       0.76      0.84      0.77     12500\n",
      "\n",
      "The Confusion Matrix for  kd_tree  Algorithm\n"
     ]
    },
    {
     "data": {
      "image/png": "[encoded data removed]",
      "text/plain": [
       "<Figure size 432x288 with 1 Axes>"
      ]
     },
     "metadata": {},
     "output_type": "display_data"
    },
    {
     "data": {
      "image/png": "[encoded data removed]",
      "text/plain": [
       "<Figure size 432x288 with 2 Axes>"
      ]
     },
     "metadata": {},
     "output_type": "display_data"
    }
   ],
   "source": [
    "runKNN(X_train_Vectorised,X_test_Vectorised,y_train,y_test,'TF-IDF','kd_tree')"
   ]
  },
  {
   "cell_type": "code",
   "execution_count": 28,
   "metadata": {
    "colab": {
     "autoexec": {
      "startup": false,
      "wait_interval": 0
     },
     "base_uri": "https://localhost:8080/",
     "height": 1302
    },
    "colab_type": "code",
    "executionInfo": {
     "elapsed": 184602,
     "status": "ok",
     "timestamp": 1532915333627,
     "user": {
      "displayName": "Chiranjib Sarma",
      "photoUrl": "//lh5.googleusercontent.com/-qgR21D2ilJw/AAAAAAAAAAI/AAAAAAAAL3Q/viq52ZH0_1I/s50-c-k-no/photo.jpg",
      "userId": "101813071526859824880"
     },
     "user_tz": -330
    },
    "id": "UmGUqmts380t",
    "outputId": "bc57fdf0-1b39-4f7a-a9ba-fbac035f00ac"
   },
   "outputs": [
    {
     "name": "stdout",
     "output_type": "stream",
     "text": [
      "************************************************************************************************************************************************************************************************************************************************************************************************************\n",
      "For K =  1 Accuracy Score =  0.82088\n",
      "For K =  6 Accuracy Score =  0.8650666666666667\n",
      "For K =  11 Accuracy Score =  0.8630133333333333\n",
      "For K =  16 Accuracy Score =  0.8652\n",
      "For K =  21 Accuracy Score =  0.8591733333333333\n",
      "For K =  26 Accuracy Score =  0.8597066666666666\n",
      "************************************************************************************************************************************************************************************************************************************************************************************************************\n",
      "\n",
      "Details for  TF-IDF Vectorization:\n",
      "Accuracy for brute  algorithm with K = 16  is  86.85\n",
      "F1 score for brute  algorithm with K = 16  is  64.2\n",
      "Recall for brute  agorithm with K = 16  is  60.95\n",
      "Precision for brute  algorithm with K = 16  is  84.14\n",
      "\n",
      " Clasification report for brute  algorithm with K = 16  is \n",
      "               precision    recall  f1-score   support\n",
      "\n",
      "   Negative       0.81      0.23      0.36      1995\n",
      "   Positive       0.87      0.99      0.93     10505\n",
      "\n",
      "avg / total       0.86      0.87      0.84     12500\n",
      "\n",
      "The Confusion Matrix for  brute  Algorithm\n"
     ]
    },
    {
     "data": {
      "image/png": "[encoded data removed]",
      "text/plain": [
       "<Figure size 432x288 with 1 Axes>"
      ]
     },
     "metadata": {},
     "output_type": "display_data"
    },
    {
     "data": {
      "image/png": "[encoded data removed]",
      "text/plain": [
       "<Figure size 432x288 with 2 Axes>"
      ]
     },
     "metadata": {},
     "output_type": "display_data"
    }
   ],
   "source": [
    "runKNN(X_train_Vectorised,X_test_Vectorised,y_train,y_test,'TF-IDF','brute')"
   ]
  },
  {
   "cell_type": "markdown",
   "metadata": {
    "colab_type": "text",
    "id": "neqvlOBd0B6g"
   },
   "source": [
    "**4.3 Using Average Word2Vec**"
   ]
  },
  {
   "cell_type": "code",
   "execution_count": 41,
   "metadata": {
    "colab": {
     "autoexec": {
      "startup": false,
      "wait_interval": 0
     }
    },
    "colab_type": "code",
    "id": "B5OmsW680B6h"
   },
   "outputs": [],
   "source": [
    "#Splitting into TRaining and Testing Set, and using only Training set for Word2Vec Training\n",
    "X_Train,X_Test,y_train,y_test = train_test_split(final['Text'],final['Score'])\n",
    "\n",
    "\n",
    "# Train your own Word2Vec model using your own text corpus\n",
    "\n",
    "i=0\n",
    "list_of_sent=[]\n",
    "for sent in X_Train.values:\n",
    "    filtered_sentence=[]\n",
    "    sent=cleanhtml(sent)\n",
    "    for w in sent.split():\n",
    "        for cleaned_words in cleanpunct(w).split():\n",
    "            if(cleaned_words.isalpha()):    \n",
    "                filtered_sentence.append(cleaned_words.lower())\n",
    "            else:\n",
    "                continue \n",
    "    list_of_sent.append(filtered_sentence)\n",
    "    "
   ]
  },
  {
   "cell_type": "code",
   "execution_count": 42,
   "metadata": {
    "colab": {
     "autoexec": {
      "startup": false,
      "wait_interval": 0
     }
    },
    "colab_type": "code",
    "id": "L_1YMUW70B6v"
   },
   "outputs": [],
   "source": [
    "w2v_model=gensim.models.Word2Vec(list_of_sent,min_count=5,size=50, workers=4)    \n",
    "words = list(w2v_model.wv.vocab)\n",
    "#print(len(words))"
   ]
  },
  {
   "cell_type": "code",
   "execution_count": 43,
   "metadata": {
    "colab": {
     "autoexec": {
      "startup": false,
      "wait_interval": 0
     },
     "base_uri": "https://localhost:8080/",
     "height": 51
    },
    "colab_type": "code",
    "executionInfo": {
     "elapsed": 41309,
     "status": "ok",
     "timestamp": 1532915395033,
     "user": {
      "displayName": "Chiranjib Sarma",
      "photoUrl": "//lh5.googleusercontent.com/-qgR21D2ilJw/AAAAAAAAAAI/AAAAAAAAL3Q/viq52ZH0_1I/s50-c-k-no/photo.jpg",
      "userId": "101813071526859824880"
     },
     "user_tz": -330
    },
    "id": "e3X4AkL30B61",
    "outputId": "c511d76d-44ab-4260-873e-8c18e77e49d7"
   },
   "outputs": [
    {
     "name": "stderr",
     "output_type": "stream",
     "text": [
      "100%|██████████| 37500/37500 [00:51<00:00, 722.99it/s]\n"
     ]
    },
    {
     "name": "stdout",
     "output_type": "stream",
     "text": [
      "37500\n",
      "12500\n"
     ]
    }
   ],
   "source": [
    "# average Word2Vec\n",
    "# compute average word2vec for each review.\n",
    "sent_vectors = []; # the avg-w2v for each sentence/review is stored in this list\n",
    "for sent in tqdm(X_Train): # for each review/sentence\n",
    "    sent_vec = np.zeros(50) # as word vectors are of zero length\n",
    "    cnt_words =0; # num of words with a valid vector in the sentence/review\n",
    "    for word in sent: # for each word in a review/sentence\n",
    "        try:\n",
    "            vec = w2v_model.wv[word]\n",
    "            sent_vec += vec\n",
    "            cnt_words += 1\n",
    "        except:\n",
    "            pass\n",
    "    sent_vec /= cnt_words\n",
    "    sent_vectors.append(sent_vec)\n",
    "\n",
    "X_train_Vectorised = sent_vectors\n",
    "\n",
    "\n",
    "\n",
    "sent_vectors = []; # the avg-w2v for each sentence/review is stored in this list\n",
    "for sent in X_Test: # for each review/sentence\n",
    "    sent_vec = np.zeros(50) # as word vectors are of zero length\n",
    "    cnt_words =0; # num of words with a valid vector in the sentence/review\n",
    "    for word in sent: # for each word in a review/sentence\n",
    "        try:\n",
    "            vec = w2v_model.wv[word]\n",
    "            sent_vec += vec\n",
    "            cnt_words += 1\n",
    "        except:\n",
    "            pass\n",
    "    sent_vec /= cnt_words\n",
    "    sent_vectors.append(sent_vec)\n",
    "\n",
    "X_test_Vectorised = sent_vectors\n",
    "print(len(X_train_Vectorised))\n",
    "print(len(X_test_Vectorised))\n",
    "\n",
    "\n",
    "#np.where(np.isnan(X_test_Vectorised))\n",
    "X_train_Vectorised = np.nan_to_num(X_train_Vectorised)\n",
    "X_test_Vectorised = np.nan_to_num(X_test_Vectorised)\n",
    "#np.nan_to_num(X_test_Vectorised)\n",
    "\n"
   ]
  },
  {
   "cell_type": "code",
   "execution_count": 44,
   "metadata": {
    "colab": {
     "autoexec": {
      "startup": false,
      "wait_interval": 0
     },
     "base_uri": "https://localhost:8080/",
     "height": 1302
    },
    "colab_type": "code",
    "executionInfo": {
     "elapsed": 10663,
     "status": "ok",
     "timestamp": 1532915405828,
     "user": {
      "displayName": "Chiranjib Sarma",
      "photoUrl": "//lh5.googleusercontent.com/-qgR21D2ilJw/AAAAAAAAAAI/AAAAAAAAL3Q/viq52ZH0_1I/s50-c-k-no/photo.jpg",
      "userId": "101813071526859824880"
     },
     "user_tz": -330
    },
    "id": "z04wXhyc4GoN",
    "outputId": "8be5ac0d-c23d-415d-ffde-3ddd398c8da6"
   },
   "outputs": [
    {
     "name": "stdout",
     "output_type": "stream",
     "text": [
      "************************************************************************************************************************************************************************************************************************************************************************************************************\n",
      "For K =  1 Accuracy Score =  0.7306663783347943\n",
      "For K =  6 Accuracy Score =  0.7918400752241831\n",
      "For K =  11 Accuracy Score =  0.8306667353694863\n",
      "For K =  16 Accuracy Score =  0.833146728298197\n",
      "For K =  21 Accuracy Score =  0.8352266856466976\n",
      "For K =  26 Accuracy Score =  0.8354133452117342\n",
      "************************************************************************************************************************************************************************************************************************************************************************************************************\n",
      "\n",
      "Details for  Average Word2Vec Vectorization:\n",
      "Accuracy for kd_tree  algorithm with K = 26  is  83.74\n",
      "F1 score for kd_tree  algorithm with K = 26  is  45.58\n",
      "Recall for kd_tree  agorithm with K = 26  is  49.97\n",
      "Precision for kd_tree  algorithm with K = 26  is  41.89\n",
      "\n",
      " Clasification report for kd_tree  algorithm with K = 26  is \n",
      "               precision    recall  f1-score   support\n",
      "\n",
      "   Negative       0.00      0.00      0.00      2026\n",
      "   Positive       0.84      1.00      0.91     10474\n",
      "\n",
      "avg / total       0.70      0.84      0.76     12500\n",
      "\n",
      "The Confusion Matrix for  kd_tree  Algorithm\n"
     ]
    },
    {
     "data": {
      "image/png": "[encoded data removed]",
      "text/plain": [
       "<Figure size 432x288 with 1 Axes>"
      ]
     },
     "metadata": {},
     "output_type": "display_data"
    },
    {
     "data": {
      "image/png": "[encoded data removed]",
      "text/plain": [
       "<Figure size 432x288 with 2 Axes>"
      ]
     },
     "metadata": {},
     "output_type": "display_data"
    }
   ],
   "source": [
    "runKNN(X_train_Vectorised,X_test_Vectorised,y_train,y_test,'Average Word2Vec','kd_tree')"
   ]
  },
  {
   "cell_type": "code",
   "execution_count": 45,
   "metadata": {
    "colab": {
     "autoexec": {
      "startup": false,
      "wait_interval": 0
     },
     "base_uri": "https://localhost:8080/",
     "height": 1302
    },
    "colab_type": "code",
    "executionInfo": {
     "elapsed": 255494,
     "status": "ok",
     "timestamp": 1532915661464,
     "user": {
      "displayName": "Chiranjib Sarma",
      "photoUrl": "//lh5.googleusercontent.com/-qgR21D2ilJw/AAAAAAAAAAI/AAAAAAAAL3Q/viq52ZH0_1I/s50-c-k-no/photo.jpg",
      "userId": "101813071526859824880"
     },
     "user_tz": -330
    },
    "id": "T9d_4d5U4J_-",
    "outputId": "972b7261-b794-42fe-d5b6-8727ceb527c7"
   },
   "outputs": [
    {
     "name": "stdout",
     "output_type": "stream",
     "text": [
      "************************************************************************************************************************************************************************************************************************************************************************************************************\n",
      "For K =  1 Accuracy Score =  0.7315998468152779\n",
      "For K =  6 Accuracy Score =  0.792026756113073\n",
      "For K =  11 Accuracy Score =  0.8306667353694863\n",
      "For K =  16 Accuracy Score =  0.8331200687407456\n",
      "For K =  21 Accuracy Score =  0.8352266856466976\n",
      "For K =  26 Accuracy Score =  0.8354133452117342\n",
      "************************************************************************************************************************************************************************************************************************************************************************************************************\n",
      "\n",
      "Details for  Average Word2Vec Vectorization:\n",
      "Accuracy for brute  algorithm with K = 26  is  83.74\n",
      "F1 score for brute  algorithm with K = 26  is  45.58\n",
      "Recall for brute  agorithm with K = 26  is  49.97\n",
      "Precision for brute  algorithm with K = 26  is  41.89\n",
      "\n",
      " Clasification report for brute  algorithm with K = 26  is \n",
      "               precision    recall  f1-score   support\n",
      "\n",
      "   Negative       0.00      0.00      0.00      2026\n",
      "   Positive       0.84      1.00      0.91     10474\n",
      "\n",
      "avg / total       0.70      0.84      0.76     12500\n",
      "\n",
      "The Confusion Matrix for  brute  Algorithm\n"
     ]
    },
    {
     "data": {
      "image/png": "[encoded data removed]",
      "text/plain": [
       "<Figure size 432x288 with 1 Axes>"
      ]
     },
     "metadata": {},
     "output_type": "display_data"
    },
    {
     "data": {
      "image/png": "[encoded data removed]",
      "text/plain": [
       "<Figure size 432x288 with 2 Axes>"
      ]
     },
     "metadata": {},
     "output_type": "display_data"
    }
   ],
   "source": [
    "runKNN(X_train_Vectorised,X_test_Vectorised,y_train,y_test,'Average Word2Vec','brute')"
   ]
  },
  {
   "cell_type": "markdown",
   "metadata": {
    "colab_type": "text",
    "id": "RZtxciCc0B67"
   },
   "source": [
    "**4.4 Using TF-IDF Weighted Word2Vec**"
   ]
  },
  {
   "cell_type": "code",
   "execution_count": 46,
   "metadata": {},
   "outputs": [
    {
     "name": "stderr",
     "output_type": "stream",
     "text": [
      "100%|██████████| 37500/37500 [00:27<00:00, 1342.92it/s]\n",
      "100%|██████████| 12500/12500 [00:09<00:00, 1321.44it/s]\n"
     ]
    }
   ],
   "source": [
    "#Splitting into TRaining and Testing Set, and using only Training set for Word2Vec Training\n",
    "X_Train,X_Test,y_train,y_test = train_test_split(final['CleanedText'],final['Score'])\n",
    "\n",
    "# TF-IDF weighted Word2Vec\n",
    "vect_tfidf = TfidfVectorizer(min_df = 5).fit(X_Train)\n",
    "tfidf_feat = vect_tfidf.get_feature_names() # tfidf words/col-names\n",
    "# we are converting a dictionary with word as a key, and the idf as a value\n",
    "dictionary = dict(zip(tfidf_feat, list(vect_tfidf.idf_)))\n",
    "#print(tfidf_feat)\n",
    "# final_tf_idf is the sparse matrix with row= sentence, col=word and cell_val = tfidf\n",
    "\n",
    "tfidf_sent_vectors = []; # the tfidf-w2v for each sentence/review is stored in this list\n",
    "row=0;\n",
    "for sent in tqdm(X_Train): # for each review/sentence \n",
    "    sent_vec = np.zeros(50) # as word vectors are of zero length\n",
    "    weight_sum =0; # num of words with a valid vector in the sentence/review\n",
    "    for word in sent: # for each word in a review/sentence\n",
    "        if word in w2v_model:\n",
    "            vec = w2v_model.wv[word]\n",
    "#             tf_idf = tf_idf_matrix[row, tfidf_feat.index(word)]\n",
    "            # to reduce the computation we are \n",
    "            # dictionary[word] = idf value of word in whole courpus\n",
    "            # sent.count(word) = tf valeus of word in this review\n",
    "            tf_idf = dictionary[word]*sent.count(word)\n",
    "            sent_vec += (vec * tf_idf)\n",
    "            weight_sum += tf_idf\n",
    "    if weight_sum != 0:\n",
    "        sent_vec /= weight_sum\n",
    "    tfidf_sent_vectors.append(sent_vec)\n",
    "    row += 1\n",
    "\n",
    "X_train_Vectorised = tfidf_sent_vectors\n",
    "\n",
    "\n",
    "tfidf_sent_vectors = []; # the tfidf-w2v for each sentence/review is stored in this list\n",
    "row=0;\n",
    "for sent in tqdm(X_Test): # for each review/sentence \n",
    "    sent_vec = np.zeros(50) # as word vectors are of zero length\n",
    "    weight_sum =0; # num of words with a valid vector in the sentence/review\n",
    "    for word in sent: # for each word in a review/sentence\n",
    "        if word in w2v_model:\n",
    "            vec = w2v_model.wv[word]\n",
    "#           tf_idf = tf_idf_matrix[row, tfidf_feat.index(word)]\n",
    "            # to reduce the computation we are \n",
    "            # dictionary[word] = idf value of word in whole courpus\n",
    "            # sent.count(word) = tf valeus of word in this review\n",
    "            tf_idf = dictionary[word]*sent.count(word)\n",
    "            sent_vec += (vec * tf_idf)\n",
    "            weight_sum += tf_idf\n",
    "    if weight_sum != 0:\n",
    "        sent_vec /= weight_sum\n",
    "    tfidf_sent_vectors.append(sent_vec)\n",
    "    row += 1\n",
    "\n",
    "\n",
    "\n",
    "X_test_Vectorised = tfidf_sent_vectors\n",
    "    \n",
    "X_train_Vectorised = np.nan_to_num(X_train_Vectorised)\n",
    "X_test_Vectorised = np.nan_to_num(X_test_Vectorised)"
   ]
  },
  {
   "cell_type": "code",
   "execution_count": 47,
   "metadata": {
    "colab": {
     "autoexec": {
      "startup": false,
      "wait_interval": 0
     },
     "base_uri": "https://localhost:8080/",
     "height": 1302
    },
    "colab_type": "code",
    "executionInfo": {
     "elapsed": 142828,
     "status": "ok",
     "timestamp": 1532917318658,
     "user": {
      "displayName": "Chiranjib Sarma",
      "photoUrl": "//lh5.googleusercontent.com/-qgR21D2ilJw/AAAAAAAAAAI/AAAAAAAAL3Q/viq52ZH0_1I/s50-c-k-no/photo.jpg",
      "userId": "101813071526859824880"
     },
     "user_tz": -330
    },
    "id": "up0HloIh4SI0",
    "outputId": "1f780582-99dd-4f82-993b-4775cf10e56b"
   },
   "outputs": [
    {
     "name": "stdout",
     "output_type": "stream",
     "text": [
      "************************************************************************************************************************************************************************************************************************************************************************************************************\n",
      "For K =  1 Accuracy Score =  0.8378400048033189\n",
      "For K =  6 Accuracy Score =  0.8378400048033189\n",
      "For K =  11 Accuracy Score =  0.8378400048033189\n",
      "For K =  16 Accuracy Score =  0.8378400048033189\n",
      "For K =  21 Accuracy Score =  0.8378400048033189\n",
      "For K =  26 Accuracy Score =  0.8378400048033189\n",
      "************************************************************************************************************************************************************************************************************************************************************************************************************\n",
      "\n",
      "Details for  TF-IDF Weighted Word2Vec Vectorization:\n",
      "Accuracy for kd_tree  algorithm with K = 1  is  16.83\n",
      "F1 score for kd_tree  algorithm with K = 1  is  14.41\n",
      "Recall for kd_tree  agorithm with K = 1  is  50.0\n",
      "Precision for kd_tree  algorithm with K = 1  is  8.42\n",
      "\n",
      " Clasification report for kd_tree  algorithm with K = 1  is \n",
      "               precision    recall  f1-score   support\n",
      "\n",
      "   Negative       0.17      1.00      0.29      2104\n",
      "   Positive       0.00      0.00      0.00     10396\n",
      "\n",
      "avg / total       0.03      0.17      0.05     12500\n",
      "\n",
      "The Confusion Matrix for  kd_tree  Algorithm\n"
     ]
    },
    {
     "data": {
      "image/png": "[encoded data removed]",
      "text/plain": [
       "<Figure size 432x288 with 1 Axes>"
      ]
     },
     "metadata": {},
     "output_type": "display_data"
    },
    {
     "data": {
      "image/png": "[encoded data removed]",
      "text/plain": [
       "<Figure size 432x288 with 2 Axes>"
      ]
     },
     "metadata": {},
     "output_type": "display_data"
    }
   ],
   "source": [
    "runKNN(X_train_Vectorised,X_test_Vectorised,y_train,y_test,'TF-IDF Weighted Word2Vec','kd_tree')"
   ]
  },
  {
   "cell_type": "code",
   "execution_count": 48,
   "metadata": {
    "colab": {
     "autoexec": {
      "startup": false,
      "wait_interval": 0
     },
     "base_uri": "https://localhost:8080/",
     "height": 1302
    },
    "colab_type": "code",
    "executionInfo": {
     "elapsed": 181944,
     "status": "ok",
     "timestamp": 1532917500740,
     "user": {
      "displayName": "Chiranjib Sarma",
      "photoUrl": "//lh5.googleusercontent.com/-qgR21D2ilJw/AAAAAAAAAAI/AAAAAAAAL3Q/viq52ZH0_1I/s50-c-k-no/photo.jpg",
      "userId": "101813071526859824880"
     },
     "user_tz": -330
    },
    "id": "virfxVZV4YRb",
    "outputId": "009f0bcf-f0b1-48a2-c9b6-b640ee9178e8"
   },
   "outputs": [
    {
     "name": "stdout",
     "output_type": "stream",
     "text": [
      "************************************************************************************************************************************************************************************************************************************************************************************************************\n",
      "For K =  1 Accuracy Score =  0.2296886542209413\n",
      "For K =  6 Accuracy Score =  0.567555320887608\n",
      "For K =  11 Accuracy Score =  0.7702666714699855\n",
      "For K =  16 Accuracy Score =  0.7702666714699855\n",
      "For K =  21 Accuracy Score =  0.7702666714699855\n",
      "For K =  26 Accuracy Score =  0.7702666714699855\n",
      "************************************************************************************************************************************************************************************************************************************************************************************************************\n",
      "\n",
      "Details for  TF-IDF Weighted Word2Vec Vectorization:\n",
      "Accuracy for brute  algorithm with K = 11  is  83.17\n",
      "F1 score for brute  algorithm with K = 11  is  45.41\n",
      "Recall for brute  agorithm with K = 11  is  50.0\n",
      "Precision for brute  algorithm with K = 11  is  41.58\n",
      "\n",
      " Clasification report for brute  algorithm with K = 11  is \n",
      "               precision    recall  f1-score   support\n",
      "\n",
      "   Negative       0.00      0.00      0.00      2104\n",
      "   Positive       0.83      1.00      0.91     10396\n",
      "\n",
      "avg / total       0.69      0.83      0.76     12500\n",
      "\n",
      "The Confusion Matrix for  brute  Algorithm\n"
     ]
    },
    {
     "data": {
      "image/png": "[encoded data removed]",
      "text/plain": [
       "<Figure size 432x288 with 1 Axes>"
      ]
     },
     "metadata": {},
     "output_type": "display_data"
    },
    {
     "data": {
      "image/png": "[encoded data removed]",
      "text/plain": [
       "<Figure size 432x288 with 2 Axes>"
      ]
     },
     "metadata": {},
     "output_type": "display_data"
    }
   ],
   "source": [
    "runKNN(X_train_Vectorised,X_test_Vectorised,y_train,y_test,'TF-IDF Weighted Word2Vec','brute')"
   ]
  },
  {
   "cell_type": "markdown",
   "metadata": {
    "colab_type": "text",
    "id": "I0QWZhNnDibR"
   },
   "source": [
    "### 5. Conclusion\n"
   ]
  },
  {
   "cell_type": "code",
   "execution_count": 49,
   "metadata": {
    "colab": {
     "autoexec": {
      "startup": false,
      "wait_interval": 0
     },
     "base_uri": "https://localhost:8080/",
     "height": 297
    },
    "colab_type": "code",
    "executionInfo": {
     "elapsed": 1239,
     "status": "ok",
     "timestamp": 1532917502103,
     "user": {
      "displayName": "Chiranjib Sarma",
      "photoUrl": "//lh5.googleusercontent.com/-qgR21D2ilJw/AAAAAAAAAAI/AAAAAAAAL3Q/viq52ZH0_1I/s50-c-k-no/photo.jpg",
      "userId": "101813071526859824880"
     },
     "user_tz": -330
    },
    "id": "gVNUYZkN0B7B",
    "outputId": "de6c6b6e-bf4d-4898-f878-882a0817d388"
   },
   "outputs": [
    {
     "data": {
      "text/html": [
       "<div>\n",
       "<style scoped>\n",
       "    .dataframe tbody tr th:only-of-type {\n",
       "        vertical-align: middle;\n",
       "    }\n",
       "\n",
       "    .dataframe tbody tr th {\n",
       "        vertical-align: top;\n",
       "    }\n",
       "\n",
       "    .dataframe thead th {\n",
       "        text-align: right;\n",
       "    }\n",
       "</style>\n",
       "<table border=\"1\" class=\"dataframe\">\n",
       "  <thead>\n",
       "    <tr style=\"text-align: right;\">\n",
       "      <th></th>\n",
       "      <th>Algorithm</th>\n",
       "      <th>HyperParameter</th>\n",
       "      <th>Testing Accuracy Score</th>\n",
       "      <th>Training Accuracy Score</th>\n",
       "      <th>Vectorization</th>\n",
       "    </tr>\n",
       "  </thead>\n",
       "  <tbody>\n",
       "    <tr>\n",
       "      <th>0</th>\n",
       "      <td>kd_tree</td>\n",
       "      <td>26.0</td>\n",
       "      <td>84.136</td>\n",
       "      <td>83.440000</td>\n",
       "      <td>Bag of Words</td>\n",
       "    </tr>\n",
       "    <tr>\n",
       "      <th>1</th>\n",
       "      <td>brute</td>\n",
       "      <td>11.0</td>\n",
       "      <td>84.880</td>\n",
       "      <td>84.954667</td>\n",
       "      <td>Bag of Words</td>\n",
       "    </tr>\n",
       "    <tr>\n",
       "      <th>2</th>\n",
       "      <td>kd_tree</td>\n",
       "      <td>21.0</td>\n",
       "      <td>84.016</td>\n",
       "      <td>83.501333</td>\n",
       "      <td>TF-IDF</td>\n",
       "    </tr>\n",
       "    <tr>\n",
       "      <th>3</th>\n",
       "      <td>brute</td>\n",
       "      <td>16.0</td>\n",
       "      <td>86.848</td>\n",
       "      <td>87.469333</td>\n",
       "      <td>TF-IDF</td>\n",
       "    </tr>\n",
       "    <tr>\n",
       "      <th>4</th>\n",
       "      <td>kd_tree</td>\n",
       "      <td>26.0</td>\n",
       "      <td>83.536</td>\n",
       "      <td>83.661333</td>\n",
       "      <td>Average Word2Vec</td>\n",
       "    </tr>\n",
       "    <tr>\n",
       "      <th>5</th>\n",
       "      <td>brute</td>\n",
       "      <td>21.0</td>\n",
       "      <td>83.536</td>\n",
       "      <td>83.682667</td>\n",
       "      <td>Average Word2Vec</td>\n",
       "    </tr>\n",
       "    <tr>\n",
       "      <th>6</th>\n",
       "      <td>kd_tree</td>\n",
       "      <td>1.0</td>\n",
       "      <td>83.288</td>\n",
       "      <td>83.744000</td>\n",
       "      <td>TF-IDF Weighted Word2Vec</td>\n",
       "    </tr>\n",
       "    <tr>\n",
       "      <th>7</th>\n",
       "      <td>brute</td>\n",
       "      <td>1.0</td>\n",
       "      <td>83.288</td>\n",
       "      <td>83.744000</td>\n",
       "      <td>TF-IDF Weighted Word2Vec</td>\n",
       "    </tr>\n",
       "    <tr>\n",
       "      <th>8</th>\n",
       "      <td>kd_tree</td>\n",
       "      <td>26.0</td>\n",
       "      <td>83.744</td>\n",
       "      <td>83.562667</td>\n",
       "      <td>Average Word2Vec</td>\n",
       "    </tr>\n",
       "    <tr>\n",
       "      <th>9</th>\n",
       "      <td>brute</td>\n",
       "      <td>26.0</td>\n",
       "      <td>83.744</td>\n",
       "      <td>83.562667</td>\n",
       "      <td>Average Word2Vec</td>\n",
       "    </tr>\n",
       "    <tr>\n",
       "      <th>10</th>\n",
       "      <td>kd_tree</td>\n",
       "      <td>1.0</td>\n",
       "      <td>16.832</td>\n",
       "      <td>16.216000</td>\n",
       "      <td>TF-IDF Weighted Word2Vec</td>\n",
       "    </tr>\n",
       "    <tr>\n",
       "      <th>11</th>\n",
       "      <td>brute</td>\n",
       "      <td>11.0</td>\n",
       "      <td>83.168</td>\n",
       "      <td>83.784000</td>\n",
       "      <td>TF-IDF Weighted Word2Vec</td>\n",
       "    </tr>\n",
       "  </tbody>\n",
       "</table>\n",
       "</div>"
      ],
      "text/plain": [
       "   Algorithm  HyperParameter  Testing Accuracy Score  Training Accuracy Score  \\\n",
       "0    kd_tree            26.0                  84.136                83.440000   \n",
       "1      brute            11.0                  84.880                84.954667   \n",
       "2    kd_tree            21.0                  84.016                83.501333   \n",
       "3      brute            16.0                  86.848                87.469333   \n",
       "4    kd_tree            26.0                  83.536                83.661333   \n",
       "5      brute            21.0                  83.536                83.682667   \n",
       "6    kd_tree             1.0                  83.288                83.744000   \n",
       "7      brute             1.0                  83.288                83.744000   \n",
       "8    kd_tree            26.0                  83.744                83.562667   \n",
       "9      brute            26.0                  83.744                83.562667   \n",
       "10   kd_tree             1.0                  16.832                16.216000   \n",
       "11     brute            11.0                  83.168                83.784000   \n",
       "\n",
       "               Vectorization  \n",
       "0               Bag of Words  \n",
       "1               Bag of Words  \n",
       "2                     TF-IDF  \n",
       "3                     TF-IDF  \n",
       "4           Average Word2Vec  \n",
       "5           Average Word2Vec  \n",
       "6   TF-IDF Weighted Word2Vec  \n",
       "7   TF-IDF Weighted Word2Vec  \n",
       "8           Average Word2Vec  \n",
       "9           Average Word2Vec  \n",
       "10  TF-IDF Weighted Word2Vec  \n",
       "11  TF-IDF Weighted Word2Vec  "
      ]
     },
     "execution_count": 49,
     "metadata": {},
     "output_type": "execute_result"
    }
   ],
   "source": [
    "Final_Metrics"
   ]
  },
  {
   "cell_type": "markdown",
   "metadata": {},
   "source": [
    "#### The Above table shows that KNN run using TF-IDF Vectorization technique with Brute Force Technique results in the highest Testing Accuracy of 86.848%  with a K-value of 16."
   ]
  },
  {
   "cell_type": "markdown",
   "metadata": {
    "colab": {
     "autoexec": {
      "startup": false,
      "wait_interval": 0
     }
    },
    "colab_type": "code",
    "id": "_9LJNqdW0B7F"
   },
   "source": [
    "#### From the Confusion Matrices we can observe that majority of the models predict the class as Positive and has a very high value of False Positives. This is because the dataset we have considered, is highly unbalanced with more than 80% of datapoints belonging to the Positive Class."
   ]
  }
 ],
 "metadata": {
  "accelerator": "GPU",
  "colab": {
   "collapsed_sections": [],
   "default_view": {},
   "name": "KNN_on_Amazon_Food_Reviews_50k_27JUN18.ipynb",
   "provenance": [
    {
     "file_id": "1GzNApbmjR1HrQKsYScthU9T_liJcYujx",
     "timestamp": 1530061772229
    }
   ],
   "version": "0.3.2",
   "views": {}
  },
  "kernelspec": {
   "display_name": "Python 3",
   "language": "python",
   "name": "python3"
  },
  "language_info": {
   "codemirror_mode": {
    "name": "ipython",
    "version": 3
   },
   "file_extension": ".py",
   "mimetype": "text/x-python",
   "name": "python",
   "nbconvert_exporter": "python",
   "pygments_lexer": "ipython3",
   "version": "3.5.3"
  }
 },
 "nbformat": 4,
 "nbformat_minor": 1
}
